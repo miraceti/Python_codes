{
 "cells": [
  {
   "cell_type": "code",
   "execution_count": 1,
   "id": "580270f5",
   "metadata": {},
   "outputs": [],
   "source": [
    "#bases de python"
   ]
  },
  {
   "cell_type": "code",
   "execution_count": 2,
   "id": "1626be95",
   "metadata": {},
   "outputs": [],
   "source": [
    "#LISTS"
   ]
  },
  {
   "cell_type": "code",
   "execution_count": 71,
   "id": "b93c29bc",
   "metadata": {},
   "outputs": [
    {
     "name": "stdout",
     "output_type": "stream",
     "text": [
      "['banana', 'cherry', 'apple', 'banana', 2, True]\n"
     ]
    }
   ],
   "source": [
    "mylist = [\"banana\",\"cherry\",\"apple\",\"banana\",2, True]\n",
    "print(mylist)\n"
   ]
  },
  {
   "cell_type": "code",
   "execution_count": 72,
   "id": "caf97371",
   "metadata": {},
   "outputs": [
    {
     "name": "stdout",
     "output_type": "stream",
     "text": [
      "\n",
      "list vide\n",
      "[]\n"
     ]
    }
   ],
   "source": [
    "print(\"\\nlist vide\")\n",
    "mylist2 = list()\n",
    "print(mylist2)"
   ]
  },
  {
   "cell_type": "code",
   "execution_count": 73,
   "id": "ffa7593b",
   "metadata": {},
   "outputs": [
    {
     "name": "stdout",
     "output_type": "stream",
     "text": [
      "\n",
      "index\n",
      "banana\n",
      "apple\n"
     ]
    }
   ],
   "source": [
    "print(\"\\nindex\")\n",
    "item = mylist[0]\n",
    "print(item)\n",
    "item1 = mylist[-4]\n",
    "print(item1)"
   ]
  },
  {
   "cell_type": "code",
   "execution_count": 74,
   "id": "cee82f5a",
   "metadata": {},
   "outputs": [
    {
     "name": "stdout",
     "output_type": "stream",
     "text": [
      "\n",
      "loop\n",
      "banana\n",
      "cherry\n",
      "apple\n",
      "banana\n",
      "2\n",
      "True\n"
     ]
    }
   ],
   "source": [
    "print(\"\\nloop\")\n",
    "for i in mylist:\n",
    "    print(i)"
   ]
  },
  {
   "cell_type": "code",
   "execution_count": 75,
   "id": "95c51fe3",
   "metadata": {},
   "outputs": [
    {
     "name": "stdout",
     "output_type": "stream",
     "text": [
      "\n",
      "check exist\n",
      "yes\n"
     ]
    }
   ],
   "source": [
    "print(\"\\ncheck exist\")\n",
    "if \"banana\" in mylist:\n",
    "    print(\"yes\")\n",
    "else:\n",
    "    print(\"no\")"
   ]
  },
  {
   "cell_type": "code",
   "execution_count": 76,
   "id": "0f03a8d4",
   "metadata": {},
   "outputs": [
    {
     "name": "stdout",
     "output_type": "stream",
     "text": [
      "\n",
      "longueur\n",
      "6\n"
     ]
    }
   ],
   "source": [
    "print(\"\\nlongueur\")\n",
    "print(len(mylist))"
   ]
  },
  {
   "cell_type": "code",
   "execution_count": 77,
   "id": "31f0a072",
   "metadata": {},
   "outputs": [
    {
     "name": "stdout",
     "output_type": "stream",
     "text": [
      "\n",
      " ajout element\n",
      "['banana', 'cherry', 'apple', 'banana', 2, True, 'lemon']\n"
     ]
    }
   ],
   "source": [
    "print(\"\\n ajout element\")\n",
    "mylist.append(\"lemon\")\n",
    "print(mylist)"
   ]
  },
  {
   "cell_type": "code",
   "execution_count": 78,
   "id": "11767ff2",
   "metadata": {},
   "outputs": [
    {
     "name": "stdout",
     "output_type": "stream",
     "text": [
      "\n",
      "insertion 1 element\n",
      "['banana', 'blueberry', 'cherry', 'apple', 'banana', 2, True, 'lemon']\n"
     ]
    }
   ],
   "source": [
    "print(\"\\ninsertion 1 element\")\n",
    "mylist.insert(1, \"blueberry\")\n",
    "print(mylist)"
   ]
  },
  {
   "cell_type": "code",
   "execution_count": 79,
   "id": "2606d685",
   "metadata": {},
   "outputs": [
    {
     "name": "stdout",
     "output_type": "stream",
     "text": [
      "['banana', 'cherry', 'apple', 'banana', 2, True]\n",
      "\n",
      "remove last element\n",
      "['banana', 'cherry', 'apple', 'banana', 2]\n",
      "\n",
      "remove 1 element\n",
      "['banana', 'apple', 'banana', 2]\n",
      "\n",
      "remove all\n"
     ]
    }
   ],
   "source": [
    "mylist = [\"banana\",\"cherry\",\"apple\",\"banana\",2, True]\n",
    "print(mylist)\n",
    "print(\"\\nremove last element\")\n",
    "mylist.pop()\n",
    "print(mylist)\n",
    "\n",
    "print(\"\\nremove 1 element\")\n",
    "mylist.remove(\"cherry\")\n",
    "print(mylist)\n",
    "\n",
    "print(\"\\nremove all\")\n",
    "#item = mylist.clear()\n",
    "#print(item)   #return None\n",
    "#print(mylist) \"return empty list []\""
   ]
  },
  {
   "cell_type": "code",
   "execution_count": 80,
   "id": "b23535d7",
   "metadata": {},
   "outputs": [
    {
     "name": "stdout",
     "output_type": "stream",
     "text": [
      "\n",
      "sort\n",
      "None\n",
      "[-10, -5, -2, 0, 1, 2, 3, 4, 5, 7, 10]\n",
      "\n",
      "sorted\n",
      "new [-10, -5, -2, 0, 1, 2, 3, 4, 5, 7, 10]\n",
      "old [4, 3, 7, 5, 0, -2, -5, -10, 10, 2, 1]\n"
     ]
    }
   ],
   "source": [
    "print(\"\\nsort\")\n",
    "mylist1 = [4, 3 ,7, 5, 0,-2, -5, -10, 10, 2, 1] \n",
    "item = mylist1.sort()\n",
    "print(item)\n",
    "print(mylist1)\n",
    "\n",
    "print(\"\\nsorted\")\n",
    "mylist1 = [4, 3 ,7, 5, 0,-2, -5, -10, 10, 2, 1] \n",
    "newlist = sorted(mylist1)\n",
    "print(\"new\",newlist)\n",
    "print(\"old\",mylist1)"
   ]
  },
  {
   "cell_type": "code",
   "execution_count": 81,
   "id": "25fae5d0",
   "metadata": {},
   "outputs": [
    {
     "name": "stdout",
     "output_type": "stream",
     "text": [
      "\n",
      "create new list\n",
      "[0, 0, 0, 0, 0]\n",
      "\n",
      "concat list\n",
      "[0, 0, 0, 0, 0, 1, 2, 3, 4, 5, 6]\n"
     ]
    }
   ],
   "source": [
    "print(\"\\ncreate new list\")\n",
    "mylist = [0]*5\n",
    "print(mylist)\n",
    "\n",
    "print(\"\\nconcat list\")\n",
    "mylist2 = [1, 2, 3, 4, 5, 6]\n",
    "newlist = mylist + mylist2\n",
    "print(newlist)"
   ]
  },
  {
   "cell_type": "code",
   "execution_count": 82,
   "id": "8f188e1b",
   "metadata": {},
   "outputs": [
    {
     "name": "stdout",
     "output_type": "stream",
     "text": [
      "\n",
      "slice\n",
      "mylist: [1, 2, 3, 4, 5, 6, 7, 8, 9, 10]\n",
      "a: [2, 3, 4, 5]\n",
      "b: [1, 2, 3, 4, 5]\n",
      "c: [3, 4, 5, 6, 7, 8, 9, 10]\n",
      "d: [3, 5, 7, 9]\n",
      "e: [1, 2, 3, 4, 5, 6, 7, 8, 9, 10]\n",
      "f: [10, 9, 8, 7, 6, 5, 4, 3, 2, 1]\n"
     ]
    }
   ],
   "source": [
    "print(\"\\nslice\")\n",
    "mylist = [1, 2, 3, 4 ,5 ,6 ,7, 8, 9, 10]\n",
    "a = mylist[1:5]\n",
    "print(\"mylist:\",mylist)\n",
    "print(\"a:\",a)\n",
    "\n",
    "b = mylist[:5]\n",
    "print(\"b:\",b)\n",
    "\n",
    "c = mylist[2:]\n",
    "print(\"c:\",c)\n",
    "\n",
    "d = mylist[2::2]\n",
    "print(\"d:\",d)\n",
    "\n",
    "e = mylist[::1]\n",
    "print(\"e:\",e)\n",
    "\n",
    "f = mylist[::-1]\n",
    "print(\"f:\",f)"
   ]
  },
  {
   "cell_type": "code",
   "execution_count": 83,
   "id": "bab6015e",
   "metadata": {},
   "outputs": [
    {
     "name": "stdout",
     "output_type": "stream",
     "text": [
      "\n",
      "copy list\n",
      "list_org: ['banana', 'cherry', 'apple']   --  list_cpy: ['banana', 'cherry', 'apple']\n",
      "\n",
      "!!! modify the cpy also modify the org !!!\n",
      "list_org: ['banana', 'cherry', 'apple', 'lemon']   --  list_cpy: ['banana', 'cherry', 'apple', 'lemon']\n",
      "\n",
      " use copy method\n",
      "list_org: ['banana', 'cherry', 'apple']   --  list_cpy: ['banana', 'cherry', 'apple', 'lemon']\n",
      "\n",
      " use list function\n",
      "list_org: ['banana', 'cherry', 'apple']   --  list_cpy: ['banana', 'cherry', 'apple', 'lemon']\n",
      "\n",
      " use slice\n",
      "list_org: ['banana', 'cherry', 'apple']   --  list_cpy: ['banana', 'cherry', 'apple', 'lemon']\n"
     ]
    }
   ],
   "source": [
    "print(\"\\ncopy list\")\n",
    "list_org = [\"banana\",\"cherry\",\"apple\"]\n",
    "list_cpy = list_org\n",
    "print(\"list_org:\",list_org,\"  --  list_cpy:\",list_cpy)\n",
    "\n",
    "print(\"\\n!!! modify the cpy also modify the org !!!\")\n",
    "list_cpy.append(\"lemon\")\n",
    "print(\"list_org:\",list_org,\"  --  list_cpy:\",list_cpy)\n",
    "\n",
    "print(\"\\n use copy method\")\n",
    "list_org = [\"banana\",\"cherry\",\"apple\"]\n",
    "list_cpy = list_org.copy()\n",
    "list_cpy.append(\"lemon\")\n",
    "print(\"list_org:\",list_org,\"  --  list_cpy:\",list_cpy)\n",
    "\n",
    "print(\"\\n use list function\")\n",
    "list_org = [\"banana\",\"cherry\",\"apple\"]\n",
    "list_cpy = list(list_org)\n",
    "list_cpy.append(\"lemon\")\n",
    "print(\"list_org:\",list_org,\"  --  list_cpy:\",list_cpy)\n",
    "\n",
    "print(\"\\n use slice\")\n",
    "list_org = [\"banana\",\"cherry\",\"apple\"]\n",
    "list_cpy = list_org[:]\n",
    "list_cpy.append(\"lemon\")\n",
    "print(\"list_org:\",list_org,\"  --  list_cpy:\",list_cpy)"
   ]
  },
  {
   "cell_type": "code",
   "execution_count": 84,
   "id": "03cf4b69",
   "metadata": {},
   "outputs": [
    {
     "name": "stdout",
     "output_type": "stream",
     "text": [
      "\n",
      "create list with list comprehension\n",
      "mylist: [1, 2, 3, 4, 5, 6]\n",
      "a: [1, 4, 9, 16, 25, 36]\n"
     ]
    }
   ],
   "source": [
    "print(\"\\ncreate list with list comprehension\")\n",
    "mylist = [1, 2, 3, 4, 5, 6]\n",
    "a = [i*i for i in mylist]\n",
    "print(\"mylist:\",mylist)\n",
    "print(\"a:\",a)\n"
   ]
  },
  {
   "cell_type": "code",
   "execution_count": 85,
   "id": "40f8c9e5",
   "metadata": {},
   "outputs": [],
   "source": [
    "#TUPLE"
   ]
  },
  {
   "cell_type": "code",
   "execution_count": 95,
   "id": "78239e4c",
   "metadata": {},
   "outputs": [
    {
     "name": "stdout",
     "output_type": "stream",
     "text": [
      "\n",
      "avec parenthèse\n",
      "('Max', 28, 'Boston')\n",
      "\n",
      "sans parenthèse\n",
      "('Max', 28, 'Boston')\n",
      "\n",
      "non tuple ==> string\n",
      "Max\n",
      "\n",
      "tuple\n",
      "('Max',)\n",
      "\n",
      "from a list\n",
      "('Max', 28, 'Boston')\n",
      "('Max',)\n"
     ]
    }
   ],
   "source": [
    "print(\"\\navec parenthèse\")\n",
    "mytuple = (\"Max\", 28, \"Boston\")\n",
    "print(mytuple)\n",
    "\n",
    "print(\"\\nsans parenthèse\")\n",
    "mytuple = \"Max\", 28, \"Boston\"\n",
    "print(mytuple)\n",
    "\n",
    "print(\"\\nnon tuple ==> string\")\n",
    "mytuple = (\"Max\")\n",
    "print(mytuple)\n",
    "\n",
    "print(\"\\ntuple\")\n",
    "mytuple = (\"Max\",)\n",
    "print(mytuple)\n",
    "\n",
    "print(\"\\nfrom a list\")\n",
    "mytuple = tuple([\"Max\", 28, \"Boston\"])\n",
    "print(mytuple)\n",
    "\n",
    "mytuple = tuple([\"Max\"])\n",
    "print(mytuple)\n"
   ]
  },
  {
   "cell_type": "code",
   "execution_count": 99,
   "id": "acd5d94a",
   "metadata": {},
   "outputs": [
    {
     "name": "stdout",
     "output_type": "stream",
     "text": [
      "\n",
      "access element of a tuple\n",
      "('Max', 28, 'Boston')\n",
      "index of 0: Max\n",
      "index of 1: 28\n",
      "index of 2: Boston\n",
      "index of -1: Boston\n"
     ]
    }
   ],
   "source": [
    "print(\"\\naccess element of a tuple\")\n",
    "mytuple = tuple([\"Max\", 28, \"Boston\"])\n",
    "print(mytuple)\n",
    "\n",
    "item = mytuple[0]\n",
    "print(\"index of 0:\",item)\n",
    "\n",
    "item = mytuple[1]\n",
    "print(\"index of 1:\",item)\n",
    "\n",
    "item = mytuple[2]\n",
    "print(\"index of 2:\",item)\n",
    "\n",
    "item = mytuple[-1]\n",
    "print(\"index of -1:\",item)"
   ]
  },
  {
   "cell_type": "code",
   "execution_count": 100,
   "id": "b89127d6",
   "metadata": {},
   "outputs": [
    {
     "name": "stdout",
     "output_type": "stream",
     "text": [
      "\n",
      "change element in a tuple ==> impossible immutable\n",
      "('Max', 28, 'Boston')\n"
     ]
    }
   ],
   "source": [
    "print(\"\\nchange element in a tuple ==> impossible immutable\")\n",
    "mytuple = tuple([\"Max\", 28, \"Boston\"])\n",
    "print(mytuple)\n",
    "\n"
   ]
  },
  {
   "cell_type": "code",
   "execution_count": 102,
   "id": "f4e76e8a",
   "metadata": {},
   "outputs": [
    {
     "name": "stdout",
     "output_type": "stream",
     "text": [
      "\n",
      "iterate\n",
      "('Max', 28, 'Boston')\n",
      "Max\n",
      "28\n",
      "Boston\n"
     ]
    }
   ],
   "source": [
    "print(\"\\niterate\")\n",
    "mytuple = tuple([\"Max\", 28, \"Boston\"])\n",
    "print(mytuple)\n",
    "\n",
    "for i in mytuple:\n",
    "    print(i)"
   ]
  },
  {
   "cell_type": "code",
   "execution_count": 105,
   "id": "a5272c0a",
   "metadata": {},
   "outputs": [
    {
     "name": "stdout",
     "output_type": "stream",
     "text": [
      "\n",
      "exist in tuple\n",
      "('Max', 28, 'Boston')\n",
      "no\n"
     ]
    }
   ],
   "source": [
    "print(\"\\nexist in tuple\")\n",
    "mytuple = tuple([\"Max\", 28, \"Boston\"])\n",
    "print(mytuple)\n",
    "\n",
    "if \"max\" in mytuple:\n",
    "    print(\"yes\")\n",
    "else:\n",
    "    print(\"no\")"
   ]
  },
  {
   "cell_type": "code",
   "execution_count": 115,
   "id": "5eef940b",
   "metadata": {},
   "outputs": [
    {
     "name": "stdout",
     "output_type": "stream",
     "text": [
      "\n",
      "longueur ,comptage  et position d'un element du tuple\n",
      "('a', 'p', 'p', 'l', 'e')\n",
      "len: 5\n",
      "nombre de a: 1\n",
      "nombre de p: 2\n",
      "nombre de l: 1\n",
      "nombre de e: 1\n",
      "nombre de o: 0\n",
      "position du 1er p: 1\n"
     ]
    }
   ],
   "source": [
    "print(\"\\nlongueur ,comptage  et position d'un element du tuple\")\n",
    "mytuple = tuple([\"a\", \"p\", \"p\", \"l\",\"e\"])\n",
    "print(mytuple)\n",
    "print(\"len:\", len(mytuple))\n",
    "\n",
    "print('nombre de a:',mytuple.count(\"a\"))\n",
    "print('nombre de p:',mytuple.count(\"p\"))\n",
    "print('nombre de l:',mytuple.count(\"l\"))\n",
    "print('nombre de e:',mytuple.count(\"e\"))\n",
    "print('nombre de o:',mytuple.count(\"o\"))\n",
    "\n",
    "print(\"position du 1er p:\", mytuple.index('p'))"
   ]
  },
  {
   "cell_type": "code",
   "execution_count": 120,
   "id": "c3bdad6f",
   "metadata": {},
   "outputs": [
    {
     "name": "stdout",
     "output_type": "stream",
     "text": [
      "\n",
      "conversion tuple vers liste\n",
      "tuple: ('a', 'p', 'p', 'l', 'e')\n",
      "liste: ['a', 'p', 'p', 'l', 'e']\n",
      "tupleb: ('a', 'p', 'p', 'l', 'e')\n"
     ]
    }
   ],
   "source": [
    "print(\"\\nconversion tuple vers liste\")\n",
    "mytuple = tuple([\"a\", \"p\", \"p\", \"l\",\"e\"])\n",
    "print(\"tuple:\",mytuple)\n",
    "\n",
    "mylist = list(mytuple)\n",
    "print(\"liste:\", mylist)\n",
    "\n",
    "mytupleb = tuple(mylist)\n",
    "print(\"tupleb:\", mytupleb)\n",
    "\n"
   ]
  },
  {
   "cell_type": "code",
   "execution_count": 123,
   "id": "0741bc1d",
   "metadata": {},
   "outputs": [
    {
     "name": "stdout",
     "output_type": "stream",
     "text": [
      "\n",
      "slice\n",
      "tuple: (1, 2, 3, 4, 5, 6, 7, 8, 9, 10)\n",
      "b: (3, 4, 5)\n"
     ]
    }
   ],
   "source": [
    "print(\"\\nslice\")\n",
    "mytuple = (1,2,3,4,5,6,7,8,9,10)\n",
    "print(\"tuple:\",mytuple)\n",
    "\n",
    "b = mytuple[2:5]\n",
    "print(\"b:\", b)"
   ]
  },
  {
   "cell_type": "code",
   "execution_count": 128,
   "id": "ee867094",
   "metadata": {},
   "outputs": [
    {
     "name": "stdout",
     "output_type": "stream",
     "text": [
      "\n",
      "unpack the tuple\n",
      "tuple: ('Max', 28, 'Boston')\n",
      "name: Max\n",
      "age: 28\n",
      "city: Boston\n",
      "i1: 0\n",
      "i3: 4\n",
      "i2: [1, 2, 3]\n"
     ]
    }
   ],
   "source": [
    "print(\"\\nunpack the tuple\")\n",
    "mytuple = tuple([\"Max\", 28, \"Boston\"])\n",
    "print(\"tuple:\",mytuple)\n",
    "\n",
    "name, age,city = mytuple\n",
    "print(\"name:\",name)\n",
    "print(\"age:\",age)\n",
    "print(\"city:\",city)\n",
    "\n",
    "mytuple = (0,1,2,3,4)\n",
    "i1, *i2, i3 = mytuple\n",
    "print(\"i1:\", i1)\n",
    "print(\"i3:\", i3)\n",
    "print(\"i2:\", i2)\n"
   ]
  },
  {
   "cell_type": "code",
   "execution_count": 132,
   "id": "7adfbc2a",
   "metadata": {},
   "outputs": [
    {
     "name": "stdout",
     "output_type": "stream",
     "text": [
      "\n",
      "compare tuple et list\n",
      "104  bytes\n",
      "80  bytes\n",
      "0.03495472999929916\n",
      "0.006131447000370827\n"
     ]
    }
   ],
   "source": [
    "print(\"\\ncompare tuple et list\")\n",
    "import sys\n",
    "mylist = [0,1,2, \"hello\", True]\n",
    "mytuple = (0,1,2, \"hello\", True)\n",
    "print(sys.getsizeof(mylist), \" bytes\")\n",
    "print(sys.getsizeof(mytuple), \" bytes\")\n",
    "\n",
    "import timeit\n",
    "print(timeit.timeit(stmt=\"[0,1,2,3,4,5]\", number=1000000))\n",
    "print(timeit.timeit(stmt=\"(0,1,2,3,4,5)\", number=1000000))"
   ]
  },
  {
   "cell_type": "code",
   "execution_count": 133,
   "id": "94c1c6f8",
   "metadata": {},
   "outputs": [],
   "source": [
    "#DICTIONARY"
   ]
  },
  {
   "cell_type": "code",
   "execution_count": 137,
   "id": "e1ab8442",
   "metadata": {},
   "outputs": [
    {
     "name": "stdout",
     "output_type": "stream",
     "text": [
      "\n",
      "creation du dictionary\n",
      "mydict: {'name': 'Max', 'age': 28, 'city': 'New York'}\n",
      "mydict2: {'name': 'Mary', 'age': 25, 'city': 'Boston'}\n"
     ]
    }
   ],
   "source": [
    "print(\"\\ncreation du dictionary\")\n",
    "mydict = {\"name\":\"Max\",\"age\":28, \"city\":\"New York\"}\n",
    "print(\"mydict:\",mydict)\n",
    "\n",
    "mydict2 = dict(name=\"Mary\", age=25, city=\"Boston\")\n",
    "print(\"mydict2:\",mydict2)"
   ]
  },
  {
   "cell_type": "code",
   "execution_count": 138,
   "id": "c2274d1a",
   "metadata": {},
   "outputs": [
    {
     "name": "stdout",
     "output_type": "stream",
     "text": [
      "\n",
      "access value\n",
      "value: Max\n"
     ]
    }
   ],
   "source": [
    "print(\"\\naccess value\")\n",
    "value = mydict[\"name\"]\n",
    "print(\"value:\", value)"
   ]
  },
  {
   "cell_type": "code",
   "execution_count": 139,
   "id": "0731f7cd",
   "metadata": {},
   "outputs": [
    {
     "name": "stdout",
     "output_type": "stream",
     "text": [
      "\n",
      "ajouter une paire cle/valeur\n",
      "mydict: {'name': 'Max', 'age': 28, 'city': 'New York', 'email': 'max@xyz.com'}\n"
     ]
    }
   ],
   "source": [
    "print(\"\\najouter une paire cle/valeur\")\n",
    "mydict[\"email\"] = \"max@xyz.com\"\n",
    "print(\"mydict:\",mydict)"
   ]
  },
  {
   "cell_type": "code",
   "execution_count": 141,
   "id": "2cacdbc2",
   "metadata": {},
   "outputs": [
    {
     "name": "stdout",
     "output_type": "stream",
     "text": [
      "\n",
      "modifier une valeur\n",
      "mydict: {'name': 'Max', 'age': 28, 'city': 'New York', 'email': 'coolmax@xyz.com'}\n"
     ]
    }
   ],
   "source": [
    "print(\"\\nmodifier une valeur\")\n",
    "mydict[\"email\"] = \"coolmax@xyz.com\"\n",
    "print(\"mydict:\",mydict)"
   ]
  },
  {
   "cell_type": "code",
   "execution_count": 146,
   "id": "305ba0d7",
   "metadata": {},
   "outputs": [
    {
     "name": "stdout",
     "output_type": "stream",
     "text": [
      "\n",
      "effacer une valeur\n",
      "mydict: {'name': 'Max', 'age': 28, 'city': 'New York'}\n",
      "mydict: {'age': 28, 'city': 'New York'}\n",
      "mydict: {'name': 'Max', 'city': 'New York'}\n",
      "mydict: {'name': 'Max', 'age': 28}\n"
     ]
    }
   ],
   "source": [
    "print(\"\\neffacer une valeur\")\n",
    "mydict = {\"name\":\"Max\",\"age\":28, \"city\":\"New York\"}\n",
    "print(\"mydict:\",mydict)\n",
    "\n",
    "del mydict[\"name\"]\n",
    "print(\"mydict:\",mydict)\n",
    "\n",
    "mydict = {\"name\":\"Max\",\"age\":28, \"city\":\"New York\"}\n",
    "mydict.pop(\"age\")\n",
    "print(\"mydict:\",mydict)\n",
    "\n",
    "mydict = {\"name\":\"Max\",\"age\":28, \"city\":\"New York\"}\n",
    "mydict.popitem()#the last inserted\n",
    "print(\"mydict:\",mydict)\n"
   ]
  },
  {
   "cell_type": "code",
   "execution_count": 148,
   "id": "895a49f8",
   "metadata": {},
   "outputs": [
    {
     "name": "stdout",
     "output_type": "stream",
     "text": [
      "\n",
      "check si cle existe\n",
      "mydict: {'name': 'Max', 'age': 28, 'city': 'New York'}\n",
      "Max\n",
      "Max\n"
     ]
    }
   ],
   "source": [
    "print(\"\\ncheck si cle existe\")\n",
    "mydict = {\"name\":\"Max\",\"age\":28, \"city\":\"New York\"}\n",
    "print(\"mydict:\",mydict)\n",
    "\n",
    "if \"name\" in mydict:\n",
    "    print(mydict[\"name\"])\n",
    "    \n",
    "try:\n",
    "    print(mydict[\"name\"])\n",
    "except:\n",
    "    print(\"error\")"
   ]
  },
  {
   "cell_type": "code",
   "execution_count": 156,
   "id": "27ca330d",
   "metadata": {},
   "outputs": [
    {
     "name": "stdout",
     "output_type": "stream",
     "text": [
      "\n",
      "Boucler sur un dictionary\n",
      "v1:\n",
      "name\n",
      "age\n",
      "city\n",
      "\n",
      "V2\n",
      "name\n",
      "age\n",
      "city\n",
      "\n",
      "V3\n",
      "Max\n",
      "28\n",
      "New York\n",
      "\n",
      "V4\n",
      "name Max\n",
      "age 28\n",
      "city New York\n"
     ]
    }
   ],
   "source": [
    "print(\"\\nBoucler sur un dictionary\")\n",
    "print(\"v1:\")\n",
    "for key in mydict:\n",
    "    print(key)\n",
    "\n",
    "print(\"\\nV2\")    \n",
    "for key in mydict.keys():\n",
    "    print(key)\n",
    "\n",
    "print(\"\\nV3\")    \n",
    "for value in mydict.values():\n",
    "    print(value)\n",
    "\n",
    "print(\"\\nV4\")    \n",
    "for key, value in mydict.items():\n",
    "    print(key, value)"
   ]
  },
  {
   "cell_type": "code",
   "execution_count": null,
   "id": "6c742c29",
   "metadata": {},
   "outputs": [],
   "source": [
    "print(\"\\ncopier un dictionary\")"
   ]
  }
 ],
 "metadata": {
  "kernelspec": {
   "display_name": "Python 3 (ipykernel)",
   "language": "python",
   "name": "python3"
  },
  "language_info": {
   "codemirror_mode": {
    "name": "ipython",
    "version": 3
   },
   "file_extension": ".py",
   "mimetype": "text/x-python",
   "name": "python",
   "nbconvert_exporter": "python",
   "pygments_lexer": "ipython3",
   "version": "3.11.2"
  }
 },
 "nbformat": 4,
 "nbformat_minor": 5
}
