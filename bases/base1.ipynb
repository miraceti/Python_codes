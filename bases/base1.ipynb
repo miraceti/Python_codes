{
 "cells": [
  {
   "cell_type": "code",
   "execution_count": 1,
   "id": "580270f5",
   "metadata": {},
   "outputs": [],
   "source": [
    "#bases de python"
   ]
  },
  {
   "cell_type": "code",
   "execution_count": 2,
   "id": "1626be95",
   "metadata": {},
   "outputs": [],
   "source": [
    "#LISTS"
   ]
  },
  {
   "cell_type": "code",
   "execution_count": 71,
   "id": "b93c29bc",
   "metadata": {},
   "outputs": [
    {
     "name": "stdout",
     "output_type": "stream",
     "text": [
      "['banana', 'cherry', 'apple', 'banana', 2, True]\n"
     ]
    }
   ],
   "source": [
    "mylist = [\"banana\",\"cherry\",\"apple\",\"banana\",2, True]\n",
    "print(mylist)\n"
   ]
  },
  {
   "cell_type": "code",
   "execution_count": 72,
   "id": "caf97371",
   "metadata": {},
   "outputs": [
    {
     "name": "stdout",
     "output_type": "stream",
     "text": [
      "\n",
      "list vide\n",
      "[]\n"
     ]
    }
   ],
   "source": [
    "print(\"\\nlist vide\")\n",
    "mylist2 = list()\n",
    "print(mylist2)"
   ]
  },
  {
   "cell_type": "code",
   "execution_count": 73,
   "id": "ffa7593b",
   "metadata": {},
   "outputs": [
    {
     "name": "stdout",
     "output_type": "stream",
     "text": [
      "\n",
      "index\n",
      "banana\n",
      "apple\n"
     ]
    }
   ],
   "source": [
    "print(\"\\nindex\")\n",
    "item = mylist[0]\n",
    "print(item)\n",
    "item1 = mylist[-4]\n",
    "print(item1)"
   ]
  },
  {
   "cell_type": "code",
   "execution_count": 74,
   "id": "cee82f5a",
   "metadata": {},
   "outputs": [
    {
     "name": "stdout",
     "output_type": "stream",
     "text": [
      "\n",
      "loop\n",
      "banana\n",
      "cherry\n",
      "apple\n",
      "banana\n",
      "2\n",
      "True\n"
     ]
    }
   ],
   "source": [
    "print(\"\\nloop\")\n",
    "for i in mylist:\n",
    "    print(i)"
   ]
  },
  {
   "cell_type": "code",
   "execution_count": 75,
   "id": "95c51fe3",
   "metadata": {},
   "outputs": [
    {
     "name": "stdout",
     "output_type": "stream",
     "text": [
      "\n",
      "check exist\n",
      "yes\n"
     ]
    }
   ],
   "source": [
    "print(\"\\ncheck exist\")\n",
    "if \"banana\" in mylist:\n",
    "    print(\"yes\")\n",
    "else:\n",
    "    print(\"no\")"
   ]
  },
  {
   "cell_type": "code",
   "execution_count": 76,
   "id": "0f03a8d4",
   "metadata": {},
   "outputs": [
    {
     "name": "stdout",
     "output_type": "stream",
     "text": [
      "\n",
      "longueur\n",
      "6\n"
     ]
    }
   ],
   "source": [
    "print(\"\\nlongueur\")\n",
    "print(len(mylist))"
   ]
  },
  {
   "cell_type": "code",
   "execution_count": 77,
   "id": "31f0a072",
   "metadata": {},
   "outputs": [
    {
     "name": "stdout",
     "output_type": "stream",
     "text": [
      "\n",
      " ajout element\n",
      "['banana', 'cherry', 'apple', 'banana', 2, True, 'lemon']\n"
     ]
    }
   ],
   "source": [
    "print(\"\\n ajout element\")\n",
    "mylist.append(\"lemon\")\n",
    "print(mylist)"
   ]
  },
  {
   "cell_type": "code",
   "execution_count": 78,
   "id": "11767ff2",
   "metadata": {},
   "outputs": [
    {
     "name": "stdout",
     "output_type": "stream",
     "text": [
      "\n",
      "insertion 1 element\n",
      "['banana', 'blueberry', 'cherry', 'apple', 'banana', 2, True, 'lemon']\n"
     ]
    }
   ],
   "source": [
    "print(\"\\ninsertion 1 element\")\n",
    "mylist.insert(1, \"blueberry\")\n",
    "print(mylist)"
   ]
  },
  {
   "cell_type": "code",
   "execution_count": 79,
   "id": "2606d685",
   "metadata": {},
   "outputs": [
    {
     "name": "stdout",
     "output_type": "stream",
     "text": [
      "['banana', 'cherry', 'apple', 'banana', 2, True]\n",
      "\n",
      "remove last element\n",
      "['banana', 'cherry', 'apple', 'banana', 2]\n",
      "\n",
      "remove 1 element\n",
      "['banana', 'apple', 'banana', 2]\n",
      "\n",
      "remove all\n"
     ]
    }
   ],
   "source": [
    "mylist = [\"banana\",\"cherry\",\"apple\",\"banana\",2, True]\n",
    "print(mylist)\n",
    "print(\"\\nremove last element\")\n",
    "mylist.pop()\n",
    "print(mylist)\n",
    "\n",
    "print(\"\\nremove 1 element\")\n",
    "mylist.remove(\"cherry\")\n",
    "print(mylist)\n",
    "\n",
    "print(\"\\nremove all\")\n",
    "#item = mylist.clear()\n",
    "#print(item)   #return None\n",
    "#print(mylist) \"return empty list []\""
   ]
  },
  {
   "cell_type": "code",
   "execution_count": 80,
   "id": "b23535d7",
   "metadata": {},
   "outputs": [
    {
     "name": "stdout",
     "output_type": "stream",
     "text": [
      "\n",
      "sort\n",
      "None\n",
      "[-10, -5, -2, 0, 1, 2, 3, 4, 5, 7, 10]\n",
      "\n",
      "sorted\n",
      "new [-10, -5, -2, 0, 1, 2, 3, 4, 5, 7, 10]\n",
      "old [4, 3, 7, 5, 0, -2, -5, -10, 10, 2, 1]\n"
     ]
    }
   ],
   "source": [
    "print(\"\\nsort\")\n",
    "mylist1 = [4, 3 ,7, 5, 0,-2, -5, -10, 10, 2, 1] \n",
    "item = mylist1.sort()\n",
    "print(item)\n",
    "print(mylist1)\n",
    "\n",
    "print(\"\\nsorted\")\n",
    "mylist1 = [4, 3 ,7, 5, 0,-2, -5, -10, 10, 2, 1] \n",
    "newlist = sorted(mylist1)\n",
    "print(\"new\",newlist)\n",
    "print(\"old\",mylist1)"
   ]
  },
  {
   "cell_type": "code",
   "execution_count": 81,
   "id": "25fae5d0",
   "metadata": {},
   "outputs": [
    {
     "name": "stdout",
     "output_type": "stream",
     "text": [
      "\n",
      "create new list\n",
      "[0, 0, 0, 0, 0]\n",
      "\n",
      "concat list\n",
      "[0, 0, 0, 0, 0, 1, 2, 3, 4, 5, 6]\n"
     ]
    }
   ],
   "source": [
    "print(\"\\ncreate new list\")\n",
    "mylist = [0]*5\n",
    "print(mylist)\n",
    "\n",
    "print(\"\\nconcat list\")\n",
    "mylist2 = [1, 2, 3, 4, 5, 6]\n",
    "newlist = mylist + mylist2\n",
    "print(newlist)"
   ]
  },
  {
   "cell_type": "code",
   "execution_count": 82,
   "id": "8f188e1b",
   "metadata": {},
   "outputs": [
    {
     "name": "stdout",
     "output_type": "stream",
     "text": [
      "\n",
      "slice\n",
      "mylist: [1, 2, 3, 4, 5, 6, 7, 8, 9, 10]\n",
      "a: [2, 3, 4, 5]\n",
      "b: [1, 2, 3, 4, 5]\n",
      "c: [3, 4, 5, 6, 7, 8, 9, 10]\n",
      "d: [3, 5, 7, 9]\n",
      "e: [1, 2, 3, 4, 5, 6, 7, 8, 9, 10]\n",
      "f: [10, 9, 8, 7, 6, 5, 4, 3, 2, 1]\n"
     ]
    }
   ],
   "source": [
    "print(\"\\nslice\")\n",
    "mylist = [1, 2, 3, 4 ,5 ,6 ,7, 8, 9, 10]\n",
    "a = mylist[1:5]\n",
    "print(\"mylist:\",mylist)\n",
    "print(\"a:\",a)\n",
    "\n",
    "b = mylist[:5]\n",
    "print(\"b:\",b)\n",
    "\n",
    "c = mylist[2:]\n",
    "print(\"c:\",c)\n",
    "\n",
    "d = mylist[2::2]\n",
    "print(\"d:\",d)\n",
    "\n",
    "e = mylist[::1]\n",
    "print(\"e:\",e)\n",
    "\n",
    "f = mylist[::-1]\n",
    "print(\"f:\",f)"
   ]
  },
  {
   "cell_type": "code",
   "execution_count": 83,
   "id": "bab6015e",
   "metadata": {},
   "outputs": [
    {
     "name": "stdout",
     "output_type": "stream",
     "text": [
      "\n",
      "copy list\n",
      "list_org: ['banana', 'cherry', 'apple']   --  list_cpy: ['banana', 'cherry', 'apple']\n",
      "\n",
      "!!! modify the cpy also modify the org !!!\n",
      "list_org: ['banana', 'cherry', 'apple', 'lemon']   --  list_cpy: ['banana', 'cherry', 'apple', 'lemon']\n",
      "\n",
      " use copy method\n",
      "list_org: ['banana', 'cherry', 'apple']   --  list_cpy: ['banana', 'cherry', 'apple', 'lemon']\n",
      "\n",
      " use list function\n",
      "list_org: ['banana', 'cherry', 'apple']   --  list_cpy: ['banana', 'cherry', 'apple', 'lemon']\n",
      "\n",
      " use slice\n",
      "list_org: ['banana', 'cherry', 'apple']   --  list_cpy: ['banana', 'cherry', 'apple', 'lemon']\n"
     ]
    }
   ],
   "source": [
    "print(\"\\ncopy list\")\n",
    "list_org = [\"banana\",\"cherry\",\"apple\"]\n",
    "list_cpy = list_org\n",
    "print(\"list_org:\",list_org,\"  --  list_cpy:\",list_cpy)\n",
    "\n",
    "print(\"\\n!!! modify the cpy also modify the org !!!\")\n",
    "list_cpy.append(\"lemon\")\n",
    "print(\"list_org:\",list_org,\"  --  list_cpy:\",list_cpy)\n",
    "\n",
    "print(\"\\n use copy method\")\n",
    "list_org = [\"banana\",\"cherry\",\"apple\"]\n",
    "list_cpy = list_org.copy()\n",
    "list_cpy.append(\"lemon\")\n",
    "print(\"list_org:\",list_org,\"  --  list_cpy:\",list_cpy)\n",
    "\n",
    "print(\"\\n use list function\")\n",
    "list_org = [\"banana\",\"cherry\",\"apple\"]\n",
    "list_cpy = list(list_org)\n",
    "list_cpy.append(\"lemon\")\n",
    "print(\"list_org:\",list_org,\"  --  list_cpy:\",list_cpy)\n",
    "\n",
    "print(\"\\n use slice\")\n",
    "list_org = [\"banana\",\"cherry\",\"apple\"]\n",
    "list_cpy = list_org[:]\n",
    "list_cpy.append(\"lemon\")\n",
    "print(\"list_org:\",list_org,\"  --  list_cpy:\",list_cpy)"
   ]
  },
  {
   "cell_type": "code",
   "execution_count": 84,
   "id": "03cf4b69",
   "metadata": {},
   "outputs": [
    {
     "name": "stdout",
     "output_type": "stream",
     "text": [
      "\n",
      "create list with list comprehension\n",
      "mylist: [1, 2, 3, 4, 5, 6]\n",
      "a: [1, 4, 9, 16, 25, 36]\n"
     ]
    }
   ],
   "source": [
    "print(\"\\ncreate list with list comprehension\")\n",
    "mylist = [1, 2, 3, 4, 5, 6]\n",
    "a = [i*i for i in mylist]\n",
    "print(\"mylist:\",mylist)\n",
    "print(\"a:\",a)\n"
   ]
  },
  {
   "cell_type": "code",
   "execution_count": 85,
   "id": "40f8c9e5",
   "metadata": {},
   "outputs": [],
   "source": [
    "#TUPLE"
   ]
  },
  {
   "cell_type": "code",
   "execution_count": 95,
   "id": "78239e4c",
   "metadata": {},
   "outputs": [
    {
     "name": "stdout",
     "output_type": "stream",
     "text": [
      "\n",
      "avec parenthèse\n",
      "('Max', 28, 'Boston')\n",
      "\n",
      "sans parenthèse\n",
      "('Max', 28, 'Boston')\n",
      "\n",
      "non tuple ==> string\n",
      "Max\n",
      "\n",
      "tuple\n",
      "('Max',)\n",
      "\n",
      "from a list\n",
      "('Max', 28, 'Boston')\n",
      "('Max',)\n"
     ]
    }
   ],
   "source": [
    "print(\"\\navec parenthèse\")\n",
    "mytuple = (\"Max\", 28, \"Boston\")\n",
    "print(mytuple)\n",
    "\n",
    "print(\"\\nsans parenthèse\")\n",
    "mytuple = \"Max\", 28, \"Boston\"\n",
    "print(mytuple)\n",
    "\n",
    "print(\"\\nnon tuple ==> string\")\n",
    "mytuple = (\"Max\")\n",
    "print(mytuple)\n",
    "\n",
    "print(\"\\ntuple\")\n",
    "mytuple = (\"Max\",)\n",
    "print(mytuple)\n",
    "\n",
    "print(\"\\nfrom a list\")\n",
    "mytuple = tuple([\"Max\", 28, \"Boston\"])\n",
    "print(mytuple)\n",
    "\n",
    "mytuple = tuple([\"Max\"])\n",
    "print(mytuple)\n"
   ]
  },
  {
   "cell_type": "code",
   "execution_count": 99,
   "id": "acd5d94a",
   "metadata": {},
   "outputs": [
    {
     "name": "stdout",
     "output_type": "stream",
     "text": [
      "\n",
      "access element of a tuple\n",
      "('Max', 28, 'Boston')\n",
      "index of 0: Max\n",
      "index of 1: 28\n",
      "index of 2: Boston\n",
      "index of -1: Boston\n"
     ]
    }
   ],
   "source": [
    "print(\"\\naccess element of a tuple\")\n",
    "mytuple = tuple([\"Max\", 28, \"Boston\"])\n",
    "print(mytuple)\n",
    "\n",
    "item = mytuple[0]\n",
    "print(\"index of 0:\",item)\n",
    "\n",
    "item = mytuple[1]\n",
    "print(\"index of 1:\",item)\n",
    "\n",
    "item = mytuple[2]\n",
    "print(\"index of 2:\",item)\n",
    "\n",
    "item = mytuple[-1]\n",
    "print(\"index of -1:\",item)"
   ]
  },
  {
   "cell_type": "code",
   "execution_count": 100,
   "id": "b89127d6",
   "metadata": {},
   "outputs": [
    {
     "name": "stdout",
     "output_type": "stream",
     "text": [
      "\n",
      "change element in a tuple ==> impossible immutable\n",
      "('Max', 28, 'Boston')\n"
     ]
    }
   ],
   "source": [
    "print(\"\\nchange element in a tuple ==> impossible immutable\")\n",
    "mytuple = tuple([\"Max\", 28, \"Boston\"])\n",
    "print(mytuple)\n",
    "\n"
   ]
  },
  {
   "cell_type": "code",
   "execution_count": 102,
   "id": "f4e76e8a",
   "metadata": {},
   "outputs": [
    {
     "name": "stdout",
     "output_type": "stream",
     "text": [
      "\n",
      "iterate\n",
      "('Max', 28, 'Boston')\n",
      "Max\n",
      "28\n",
      "Boston\n"
     ]
    }
   ],
   "source": [
    "print(\"\\niterate\")\n",
    "mytuple = tuple([\"Max\", 28, \"Boston\"])\n",
    "print(mytuple)\n",
    "\n",
    "for i in mytuple:\n",
    "    print(i)"
   ]
  },
  {
   "cell_type": "code",
   "execution_count": 105,
   "id": "a5272c0a",
   "metadata": {},
   "outputs": [
    {
     "name": "stdout",
     "output_type": "stream",
     "text": [
      "\n",
      "exist in tuple\n",
      "('Max', 28, 'Boston')\n",
      "no\n"
     ]
    }
   ],
   "source": [
    "print(\"\\nexist in tuple\")\n",
    "mytuple = tuple([\"Max\", 28, \"Boston\"])\n",
    "print(mytuple)\n",
    "\n",
    "if \"max\" in mytuple:\n",
    "    print(\"yes\")\n",
    "else:\n",
    "    print(\"no\")"
   ]
  },
  {
   "cell_type": "code",
   "execution_count": 115,
   "id": "5eef940b",
   "metadata": {},
   "outputs": [
    {
     "name": "stdout",
     "output_type": "stream",
     "text": [
      "\n",
      "longueur ,comptage  et position d'un element du tuple\n",
      "('a', 'p', 'p', 'l', 'e')\n",
      "len: 5\n",
      "nombre de a: 1\n",
      "nombre de p: 2\n",
      "nombre de l: 1\n",
      "nombre de e: 1\n",
      "nombre de o: 0\n",
      "position du 1er p: 1\n"
     ]
    }
   ],
   "source": [
    "print(\"\\nlongueur ,comptage  et position d'un element du tuple\")\n",
    "mytuple = tuple([\"a\", \"p\", \"p\", \"l\",\"e\"])\n",
    "print(mytuple)\n",
    "print(\"len:\", len(mytuple))\n",
    "\n",
    "print('nombre de a:',mytuple.count(\"a\"))\n",
    "print('nombre de p:',mytuple.count(\"p\"))\n",
    "print('nombre de l:',mytuple.count(\"l\"))\n",
    "print('nombre de e:',mytuple.count(\"e\"))\n",
    "print('nombre de o:',mytuple.count(\"o\"))\n",
    "\n",
    "print(\"position du 1er p:\", mytuple.index('p'))"
   ]
  },
  {
   "cell_type": "code",
   "execution_count": 120,
   "id": "c3bdad6f",
   "metadata": {},
   "outputs": [
    {
     "name": "stdout",
     "output_type": "stream",
     "text": [
      "\n",
      "conversion tuple vers liste\n",
      "tuple: ('a', 'p', 'p', 'l', 'e')\n",
      "liste: ['a', 'p', 'p', 'l', 'e']\n",
      "tupleb: ('a', 'p', 'p', 'l', 'e')\n"
     ]
    }
   ],
   "source": [
    "print(\"\\nconversion tuple vers liste\")\n",
    "mytuple = tuple([\"a\", \"p\", \"p\", \"l\",\"e\"])\n",
    "print(\"tuple:\",mytuple)\n",
    "\n",
    "mylist = list(mytuple)\n",
    "print(\"liste:\", mylist)\n",
    "\n",
    "mytupleb = tuple(mylist)\n",
    "print(\"tupleb:\", mytupleb)\n",
    "\n"
   ]
  },
  {
   "cell_type": "code",
   "execution_count": 123,
   "id": "0741bc1d",
   "metadata": {},
   "outputs": [
    {
     "name": "stdout",
     "output_type": "stream",
     "text": [
      "\n",
      "slice\n",
      "tuple: (1, 2, 3, 4, 5, 6, 7, 8, 9, 10)\n",
      "b: (3, 4, 5)\n"
     ]
    }
   ],
   "source": [
    "print(\"\\nslice\")\n",
    "mytuple = (1,2,3,4,5,6,7,8,9,10)\n",
    "print(\"tuple:\",mytuple)\n",
    "\n",
    "b = mytuple[2:5]\n",
    "print(\"b:\", b)"
   ]
  },
  {
   "cell_type": "code",
   "execution_count": 128,
   "id": "ee867094",
   "metadata": {},
   "outputs": [
    {
     "name": "stdout",
     "output_type": "stream",
     "text": [
      "\n",
      "unpack the tuple\n",
      "tuple: ('Max', 28, 'Boston')\n",
      "name: Max\n",
      "age: 28\n",
      "city: Boston\n",
      "i1: 0\n",
      "i3: 4\n",
      "i2: [1, 2, 3]\n"
     ]
    }
   ],
   "source": [
    "print(\"\\nunpack the tuple\")\n",
    "mytuple = tuple([\"Max\", 28, \"Boston\"])\n",
    "print(\"tuple:\",mytuple)\n",
    "\n",
    "name, age,city = mytuple\n",
    "print(\"name:\",name)\n",
    "print(\"age:\",age)\n",
    "print(\"city:\",city)\n",
    "\n",
    "mytuple = (0,1,2,3,4)\n",
    "i1, *i2, i3 = mytuple\n",
    "print(\"i1:\", i1)\n",
    "print(\"i3:\", i3)\n",
    "print(\"i2:\", i2)\n"
   ]
  },
  {
   "cell_type": "code",
   "execution_count": 132,
   "id": "7adfbc2a",
   "metadata": {},
   "outputs": [
    {
     "name": "stdout",
     "output_type": "stream",
     "text": [
      "\n",
      "compare tuple et list\n",
      "104  bytes\n",
      "80  bytes\n",
      "0.03495472999929916\n",
      "0.006131447000370827\n"
     ]
    }
   ],
   "source": [
    "print(\"\\ncompare tuple et list\")\n",
    "import sys\n",
    "mylist = [0,1,2, \"hello\", True]\n",
    "mytuple = (0,1,2, \"hello\", True)\n",
    "print(sys.getsizeof(mylist), \" bytes\")\n",
    "print(sys.getsizeof(mytuple), \" bytes\")\n",
    "\n",
    "import timeit\n",
    "print(timeit.timeit(stmt=\"[0,1,2,3,4,5]\", number=1000000))\n",
    "print(timeit.timeit(stmt=\"(0,1,2,3,4,5)\", number=1000000))"
   ]
  },
  {
   "cell_type": "code",
   "execution_count": 133,
   "id": "94c1c6f8",
   "metadata": {},
   "outputs": [],
   "source": [
    "#DICTIONARY"
   ]
  },
  {
   "cell_type": "code",
   "execution_count": 137,
   "id": "e1ab8442",
   "metadata": {},
   "outputs": [
    {
     "name": "stdout",
     "output_type": "stream",
     "text": [
      "\n",
      "creation du dictionary\n",
      "mydict: {'name': 'Max', 'age': 28, 'city': 'New York'}\n",
      "mydict2: {'name': 'Mary', 'age': 25, 'city': 'Boston'}\n"
     ]
    }
   ],
   "source": [
    "print(\"\\ncreation du dictionary\")\n",
    "mydict = {\"name\":\"Max\",\"age\":28, \"city\":\"New York\"}\n",
    "print(\"mydict:\",mydict)\n",
    "\n",
    "mydict2 = dict(name=\"Mary\", age=25, city=\"Boston\")\n",
    "print(\"mydict2:\",mydict2)"
   ]
  },
  {
   "cell_type": "code",
   "execution_count": 138,
   "id": "c2274d1a",
   "metadata": {},
   "outputs": [
    {
     "name": "stdout",
     "output_type": "stream",
     "text": [
      "\n",
      "access value\n",
      "value: Max\n"
     ]
    }
   ],
   "source": [
    "print(\"\\naccess value\")\n",
    "value = mydict[\"name\"]\n",
    "print(\"value:\", value)"
   ]
  },
  {
   "cell_type": "code",
   "execution_count": 139,
   "id": "0731f7cd",
   "metadata": {},
   "outputs": [
    {
     "name": "stdout",
     "output_type": "stream",
     "text": [
      "\n",
      "ajouter une paire cle/valeur\n",
      "mydict: {'name': 'Max', 'age': 28, 'city': 'New York', 'email': 'max@xyz.com'}\n"
     ]
    }
   ],
   "source": [
    "print(\"\\najouter une paire cle/valeur\")\n",
    "mydict[\"email\"] = \"max@xyz.com\"\n",
    "print(\"mydict:\",mydict)"
   ]
  },
  {
   "cell_type": "code",
   "execution_count": 141,
   "id": "2cacdbc2",
   "metadata": {},
   "outputs": [
    {
     "name": "stdout",
     "output_type": "stream",
     "text": [
      "\n",
      "modifier une valeur\n",
      "mydict: {'name': 'Max', 'age': 28, 'city': 'New York', 'email': 'coolmax@xyz.com'}\n"
     ]
    }
   ],
   "source": [
    "print(\"\\nmodifier une valeur\")\n",
    "mydict[\"email\"] = \"coolmax@xyz.com\"\n",
    "print(\"mydict:\",mydict)"
   ]
  },
  {
   "cell_type": "code",
   "execution_count": 146,
   "id": "305ba0d7",
   "metadata": {},
   "outputs": [
    {
     "name": "stdout",
     "output_type": "stream",
     "text": [
      "\n",
      "effacer une valeur\n",
      "mydict: {'name': 'Max', 'age': 28, 'city': 'New York'}\n",
      "mydict: {'age': 28, 'city': 'New York'}\n",
      "mydict: {'name': 'Max', 'city': 'New York'}\n",
      "mydict: {'name': 'Max', 'age': 28}\n"
     ]
    }
   ],
   "source": [
    "print(\"\\neffacer une valeur\")\n",
    "mydict = {\"name\":\"Max\",\"age\":28, \"city\":\"New York\"}\n",
    "print(\"mydict:\",mydict)\n",
    "\n",
    "del mydict[\"name\"]\n",
    "print(\"mydict:\",mydict)\n",
    "\n",
    "mydict = {\"name\":\"Max\",\"age\":28, \"city\":\"New York\"}\n",
    "mydict.pop(\"age\")\n",
    "print(\"mydict:\",mydict)\n",
    "\n",
    "mydict = {\"name\":\"Max\",\"age\":28, \"city\":\"New York\"}\n",
    "mydict.popitem()#the last inserted\n",
    "print(\"mydict:\",mydict)\n"
   ]
  },
  {
   "cell_type": "code",
   "execution_count": 1,
   "id": "895a49f8",
   "metadata": {},
   "outputs": [
    {
     "name": "stdout",
     "output_type": "stream",
     "text": [
      "\n",
      "check si cle existe\n",
      "mydict: {'name': 'Max', 'age': 28, 'city': 'New York'}\n",
      "Max\n",
      "Max\n"
     ]
    }
   ],
   "source": [
    "print(\"\\ncheck si cle existe\")\n",
    "mydict = {\"name\":\"Max\",\"age\":28, \"city\":\"New York\"}\n",
    "print(\"mydict:\",mydict)\n",
    "\n",
    "if \"name\" in mydict:\n",
    "    print(mydict[\"name\"])\n",
    "    \n",
    "try:\n",
    "    print(mydict[\"name\"])\n",
    "except:\n",
    "    print(\"error\")"
   ]
  },
  {
   "cell_type": "code",
   "execution_count": 2,
   "id": "27ca330d",
   "metadata": {},
   "outputs": [
    {
     "name": "stdout",
     "output_type": "stream",
     "text": [
      "\n",
      "Boucler sur un dictionary\n",
      "v1:\n",
      "name\n",
      "age\n",
      "city\n",
      "\n",
      "V2\n",
      "name\n",
      "age\n",
      "city\n",
      "\n",
      "V3\n",
      "Max\n",
      "28\n",
      "New York\n",
      "\n",
      "V4\n",
      "name Max\n",
      "age 28\n",
      "city New York\n"
     ]
    }
   ],
   "source": [
    "print(\"\\nBoucler sur un dictionary\")\n",
    "print(\"v1:\")\n",
    "for key in mydict:\n",
    "    print(key)\n",
    "\n",
    "print(\"\\nV2\")    \n",
    "for key in mydict.keys():\n",
    "    print(key)\n",
    "\n",
    "print(\"\\nV3\")    \n",
    "for value in mydict.values():\n",
    "    print(value)\n",
    "\n",
    "print(\"\\nV4\")    \n",
    "for key, value in mydict.items():\n",
    "    print(key, value)"
   ]
  },
  {
   "cell_type": "code",
   "execution_count": 3,
   "id": "6c742c29",
   "metadata": {},
   "outputs": [
    {
     "name": "stdout",
     "output_type": "stream",
     "text": [
      "\n",
      "copier un dictionary\n"
     ]
    }
   ],
   "source": [
    "print(\"\\ncopier un dictionary\")"
   ]
  },
  {
   "cell_type": "code",
   "execution_count": 4,
   "id": "069783e0",
   "metadata": {},
   "outputs": [
    {
     "name": "stdout",
     "output_type": "stream",
     "text": [
      "{'name': 'Max', 'age': 28, 'city': 'New York'}\n",
      "{'name': 'Max', 'age': 28, 'city': 'New York'}\n"
     ]
    }
   ],
   "source": [
    "mydict_cpy = mydict\n",
    "print(mydict)\n",
    "print(mydict_cpy)"
   ]
  },
  {
   "cell_type": "code",
   "execution_count": 5,
   "id": "ac7d1d7a",
   "metadata": {},
   "outputs": [],
   "source": [
    "#modify the copy will also modifiy the original"
   ]
  },
  {
   "cell_type": "code",
   "execution_count": 6,
   "id": "78e1ae50",
   "metadata": {},
   "outputs": [
    {
     "name": "stdout",
     "output_type": "stream",
     "text": [
      "{'name': 'Max', 'age': 28, 'city': 'New York', 'email': 'max@xyz.com'}\n",
      "{'name': 'Max', 'age': 28, 'city': 'New York', 'email': 'max@xyz.com'}\n"
     ]
    }
   ],
   "source": [
    "mydict_cpy[\"email\"]=\"max@xyz.com\"\n",
    "print(mydict)\n",
    "print(mydict_cpy)"
   ]
  },
  {
   "cell_type": "code",
   "execution_count": 7,
   "id": "ac79cf3e",
   "metadata": {},
   "outputs": [],
   "source": [
    "#to make an actual copy : façon 1:"
   ]
  },
  {
   "cell_type": "code",
   "execution_count": 10,
   "id": "afba122a",
   "metadata": {},
   "outputs": [
    {
     "name": "stdout",
     "output_type": "stream",
     "text": [
      "mydict:  {'name': 'Max', 'age': 28, 'city': 'New York'}\n",
      "mydict_cpy:  {'name': 'Max', 'age': 28, 'city': 'New York', 'email': 'max@xyz.com'}\n"
     ]
    }
   ],
   "source": [
    "mydict = {\"name\":\"Max\",\"age\":28, \"city\":\"New York\"}\n",
    "mydict_cpy = mydict.copy()\n",
    "mydict_cpy[\"email\"]=\"max@xyz.com\"\n",
    "print(\"mydict: \",mydict)\n",
    "print(\"mydict_cpy: \",mydict_cpy)"
   ]
  },
  {
   "cell_type": "code",
   "execution_count": 12,
   "id": "5472dd38",
   "metadata": {},
   "outputs": [],
   "source": [
    "#to make an actual copy : façon 2:"
   ]
  },
  {
   "cell_type": "code",
   "execution_count": 13,
   "id": "57163bf0",
   "metadata": {},
   "outputs": [
    {
     "name": "stdout",
     "output_type": "stream",
     "text": [
      "mydict:  {'name': 'Max', 'age': 28, 'city': 'New York'}\n",
      "mydict_cpy:  {'name': 'Max', 'age': 28, 'city': 'New York', 'email': 'max@xyz.com'}\n"
     ]
    }
   ],
   "source": [
    "mydict = {\"name\":\"Max\",\"age\":28, \"city\":\"New York\"}\n",
    "mydict_cpy = dict(mydict)\n",
    "mydict_cpy[\"email\"]=\"max@xyz.com\"\n",
    "print(\"mydict: \",mydict)\n",
    "print(\"mydict_cpy: \",mydict_cpy)"
   ]
  },
  {
   "cell_type": "code",
   "execution_count": 17,
   "id": "be25fd1d",
   "metadata": {},
   "outputs": [],
   "source": [
    "#Update dictionary"
   ]
  },
  {
   "cell_type": "code",
   "execution_count": 19,
   "id": "7dbdd1a4",
   "metadata": {},
   "outputs": [
    {
     "name": "stdout",
     "output_type": "stream",
     "text": [
      "{'name': 'Mary', 'age': 27, 'email': 'max@xyz.com', 'city': 'Boston'}\n"
     ]
    }
   ],
   "source": [
    "my_dict = {\"name\":\"Max\", \"age\":28, \"email\":\"max@xyz.com\"}\n",
    "my_dict_2 = dict(name=\"Mary\", age=27, city=\"Boston\")\n",
    "\n",
    "my_dict.update(my_dict_2)\n",
    "print(my_dict)"
   ]
  },
  {
   "cell_type": "code",
   "execution_count": 24,
   "id": "5e112a3a",
   "metadata": {},
   "outputs": [
    {
     "name": "stdout",
     "output_type": "stream",
     "text": [
      "{3: 9, 6: 36, 8: 64}\n",
      "9\n",
      "{(8, 7): 15}\n"
     ]
    }
   ],
   "source": [
    "my_dict = {3: 9, 6: 36, 8: 64}\n",
    "print(my_dict)\n",
    "\n",
    "value = my_dict[3]\n",
    "print(value)\n",
    "\n",
    "mytuple = (8, 7)\n",
    "mydict = {mytuple: 15}\n",
    "print(mydict)"
   ]
  },
  {
   "cell_type": "code",
   "execution_count": 25,
   "id": "e946e52f",
   "metadata": {},
   "outputs": [],
   "source": [
    "#SET"
   ]
  },
  {
   "cell_type": "code",
   "execution_count": 27,
   "id": "38f2099e",
   "metadata": {},
   "outputs": [
    {
     "name": "stdout",
     "output_type": "stream",
     "text": [
      "{1, 2, 3}\n",
      "{1, 2, 3}\n"
     ]
    }
   ],
   "source": [
    "myset = {1, 2, 3}\n",
    "print(myset)\n",
    "\n",
    "myset = {1, 2, 3, 1, 2}\n",
    "print(myset)"
   ]
  },
  {
   "cell_type": "code",
   "execution_count": 28,
   "id": "a1b57c03",
   "metadata": {},
   "outputs": [
    {
     "name": "stdout",
     "output_type": "stream",
     "text": [
      "{1, 2, 3}\n"
     ]
    }
   ],
   "source": [
    "myset = set([1,2,3])\n",
    "print(myset)"
   ]
  },
  {
   "cell_type": "code",
   "execution_count": 31,
   "id": "98ca99ea",
   "metadata": {},
   "outputs": [
    {
     "name": "stdout",
     "output_type": "stream",
     "text": [
      "{'e', 'l', 'h', 'o'}\n"
     ]
    }
   ],
   "source": [
    "myset = set(\"hello\")\n",
    "print(myset)"
   ]
  },
  {
   "cell_type": "code",
   "execution_count": 32,
   "id": "53ccf85a",
   "metadata": {},
   "outputs": [
    {
     "name": "stdout",
     "output_type": "stream",
     "text": [
      "set()\n"
     ]
    }
   ],
   "source": [
    "#empty set\n",
    "myset = set()\n",
    "print(myset)"
   ]
  },
  {
   "cell_type": "code",
   "execution_count": 33,
   "id": "80c14ac1",
   "metadata": {},
   "outputs": [],
   "source": [
    "#update a set"
   ]
  },
  {
   "cell_type": "code",
   "execution_count": 34,
   "id": "28230b24",
   "metadata": {},
   "outputs": [
    {
     "name": "stdout",
     "output_type": "stream",
     "text": [
      "{1, 2, 3}\n"
     ]
    }
   ],
   "source": [
    "myset = set()\n",
    "myset.add(1)\n",
    "myset.add(2)\n",
    "myset.add(3)\n",
    "print(myset)"
   ]
  },
  {
   "cell_type": "code",
   "execution_count": 35,
   "id": "3dae2ff7",
   "metadata": {},
   "outputs": [],
   "source": [
    "#remove element"
   ]
  },
  {
   "cell_type": "code",
   "execution_count": 37,
   "id": "3e65f7a9",
   "metadata": {},
   "outputs": [
    {
     "name": "stdout",
     "output_type": "stream",
     "text": [
      "{1, 2, 3}\n",
      "{1, 3}\n"
     ]
    }
   ],
   "source": [
    "print(myset)\n",
    "myset.remove(2) #error si en dehots des index/key\n",
    "print(myset)"
   ]
  },
  {
   "cell_type": "code",
   "execution_count": 39,
   "id": "3c3bf935",
   "metadata": {},
   "outputs": [
    {
     "name": "stdout",
     "output_type": "stream",
     "text": [
      "{1, 2, 3}\n",
      "{1, 3}\n"
     ]
    }
   ],
   "source": [
    "myset = {1, 2, 3}\n",
    "print(myset)\n",
    "myset.discard(2) #no error si en dehors des index/key\n",
    "print(myset)"
   ]
  },
  {
   "cell_type": "code",
   "execution_count": 40,
   "id": "8a27b8e9",
   "metadata": {},
   "outputs": [],
   "source": [
    "#empty the set"
   ]
  },
  {
   "cell_type": "code",
   "execution_count": 41,
   "id": "255447ca",
   "metadata": {},
   "outputs": [
    {
     "name": "stdout",
     "output_type": "stream",
     "text": [
      "{1, 2, 3}\n",
      "set()\n"
     ]
    }
   ],
   "source": [
    "myset = {1, 2, 3}\n",
    "print(myset)\n",
    "myset.clear() \n",
    "print(myset)"
   ]
  },
  {
   "cell_type": "code",
   "execution_count": 43,
   "id": "dc1a326f",
   "metadata": {},
   "outputs": [
    {
     "name": "stdout",
     "output_type": "stream",
     "text": [
      "{1, 2, 3}\n",
      "1\n",
      "{2, 3}\n"
     ]
    }
   ],
   "source": [
    "myset = {1, 2, 3}\n",
    "print(myset)\n",
    "print(myset.pop())\n",
    "print(myset)"
   ]
  },
  {
   "cell_type": "code",
   "execution_count": 44,
   "id": "307ec528",
   "metadata": {},
   "outputs": [],
   "source": [
    "#iterate the set"
   ]
  },
  {
   "cell_type": "code",
   "execution_count": 46,
   "id": "43152632",
   "metadata": {},
   "outputs": [
    {
     "name": "stdout",
     "output_type": "stream",
     "text": [
      "{1, 2, 3}\n",
      "1\n",
      "2\n",
      "3\n"
     ]
    }
   ],
   "source": [
    "myset = {1, 2, 3}\n",
    "print(myset)\n",
    "\n",
    "for i in myset:\n",
    "    print(i)"
   ]
  },
  {
   "cell_type": "code",
   "execution_count": 47,
   "id": "b30a8cf4",
   "metadata": {},
   "outputs": [],
   "source": [
    "#check if a element existe i, the set"
   ]
  },
  {
   "cell_type": "code",
   "execution_count": 48,
   "id": "cfca2465",
   "metadata": {},
   "outputs": [
    {
     "name": "stdout",
     "output_type": "stream",
     "text": [
      "{1, 2, 3}\n",
      "yes\n"
     ]
    }
   ],
   "source": [
    "myset = {1, 2, 3}\n",
    "print(myset)\n",
    "\n",
    "if 1 in myset:\n",
    "    print(\"yes\")\n",
    "else:\n",
    "    print(\"no\")"
   ]
  },
  {
   "cell_type": "code",
   "execution_count": 49,
   "id": "415f5a76",
   "metadata": {},
   "outputs": [],
   "source": [
    "#UNION et INTERSECTION"
   ]
  },
  {
   "cell_type": "code",
   "execution_count": 58,
   "id": "c0123cb5",
   "metadata": {},
   "outputs": [
    {
     "name": "stdout",
     "output_type": "stream",
     "text": [
      "unions:  {0, 1, 2, 3, 4, 5, 6, 7, 8, 9}\n",
      "intersections1:  set()\n",
      "intersections2:  {3, 5, 7}\n",
      "intersections3:  {2}\n"
     ]
    }
   ],
   "source": [
    "odds = {1, 3, 5, 7, 9}\n",
    "evens = {0, 2, 4, 6, 8}\n",
    "primes = {2, 3, 5, 7, 11}\n",
    "\n",
    "unions = odds.union(evens)\n",
    "print(\"unions: \",unions)\n",
    "\n",
    "intersections1 = odds.intersection(evens)\n",
    "print(\"intersections1: \",intersections1)\n",
    "\n",
    "intersections2 = odds.intersection(primes)\n",
    "print(\"intersections2: \",intersections2)\n",
    "\n",
    "intersections3 = evens.intersection(primes)\n",
    "print(\"intersections3: \",intersections3)"
   ]
  },
  {
   "cell_type": "code",
   "execution_count": 59,
   "id": "b9573a50",
   "metadata": {},
   "outputs": [],
   "source": [
    "#difference entre 2 sets"
   ]
  },
  {
   "cell_type": "code",
   "execution_count": 64,
   "id": "4d647b54",
   "metadata": {},
   "outputs": [
    {
     "name": "stdout",
     "output_type": "stream",
     "text": [
      "setA:  {1, 2, 3, 4, 5, 6, 7, 8, 9}\n",
      "setB:  {1, 2, 3, 10, 11, 12}\n",
      "diff1:  {4, 5, 6, 7, 8, 9}\n",
      "diff2:  {10, 11, 12}\n",
      "diff3:  {4, 5, 6, 7, 8, 9, 10, 11, 12}\n",
      "diff4:  {4, 5, 6, 7, 8, 9, 10, 11, 12}\n"
     ]
    }
   ],
   "source": [
    "setA = {1, 2, 3, 4, 5, 6, 7, 8, 9}\n",
    "setB = {1, 2, 3, 10, 11, 12}\n",
    "print(\"setA: \", setA)\n",
    "print(\"setB: \", setB)\n",
    "\n",
    "diff1 = setA.difference(setB)\n",
    "print(\"diff1: \", diff1)\n",
    "\n",
    "diff2 = setB.difference(setA)\n",
    "print(\"diff2: \", diff2)\n",
    "\n",
    "diff3 = setB.symmetric_difference(setA)\n",
    "print(\"diff3: \", diff3)\n",
    "\n",
    "diff4 = setA.symmetric_difference(setB)\n",
    "print(\"diff4: \", diff4)"
   ]
  },
  {
   "cell_type": "code",
   "execution_count": 65,
   "id": "4da19a5f",
   "metadata": {},
   "outputs": [],
   "source": [
    "#modify set inplace"
   ]
  },
  {
   "cell_type": "code",
   "execution_count": 71,
   "id": "ce04b1c9",
   "metadata": {},
   "outputs": [
    {
     "name": "stdout",
     "output_type": "stream",
     "text": [
      "update:\n",
      "setA:  {1, 2, 3, 4, 5, 6, 7, 8, 9}\n",
      "setB:  {1, 2, 3, 10, 11, 12}\n",
      "setA:  {1, 2, 3, 4, 5, 6, 7, 8, 9, 10, 11, 12}\n",
      "setB:  {1, 2, 3, 10, 11, 12}\n",
      "\n",
      "intersection_update:\n",
      "setA:  {1, 2, 3, 4, 5, 6, 7, 8, 9}\n",
      "setB:  {1, 2, 3, 10, 11, 12}\n",
      "setA:  {1, 2, 3}\n",
      "setB:  {1, 2, 3, 10, 11, 12}\n",
      "\n",
      "difference_update:\n",
      "setA:  {1, 2, 3, 4, 5, 6, 7, 8, 9}\n",
      "setB:  {1, 2, 3, 10, 11, 12}\n",
      "setA:  {4, 5, 6, 7, 8, 9}\n",
      "setB:  {1, 2, 3, 10, 11, 12}\n",
      "\n",
      "symmetric_difference_update:\n",
      "setA:  {1, 2, 3, 4, 5, 6, 7, 8, 9}\n",
      "setB:  {1, 2, 3, 10, 11, 12}\n",
      "setA:  {4, 5, 6, 7, 8, 9, 10, 11, 12}\n",
      "setB:  {1, 2, 3, 10, 11, 12}\n"
     ]
    }
   ],
   "source": [
    "print(\"update:\")\n",
    "setA = {1, 2, 3, 4, 5, 6, 7, 8, 9}\n",
    "setB = {1, 2, 3, 10, 11, 12}\n",
    "print(\"setA: \", setA)\n",
    "print(\"setB: \", setB)\n",
    "\n",
    "setA.update(setB)\n",
    "print(\"setA: \", setA)\n",
    "print(\"setB: \", setB)\n",
    "\n",
    "print(\"\\nintersection_update:\")\n",
    "setA = {1, 2, 3, 4, 5, 6, 7, 8, 9}\n",
    "setB = {1, 2, 3, 10, 11, 12}\n",
    "print(\"setA: \", setA)\n",
    "print(\"setB: \", setB)\n",
    "\n",
    "setA.intersection_update(setB)\n",
    "print(\"setA: \", setA)\n",
    "print(\"setB: \", setB)\n",
    "\n",
    "print(\"\\ndifference_update:\")\n",
    "setA = {1, 2, 3, 4, 5, 6, 7, 8, 9}\n",
    "setB = {1, 2, 3, 10, 11, 12}\n",
    "print(\"setA: \", setA)\n",
    "print(\"setB: \", setB)\n",
    "\n",
    "setA.difference_update(setB)\n",
    "print(\"setA: \", setA)\n",
    "print(\"setB: \", setB)\n",
    "\n",
    "print(\"\\nsymmetric_difference_update:\")\n",
    "setA = {1, 2, 3, 4, 5, 6, 7, 8, 9}\n",
    "setB = {1, 2, 3, 10, 11, 12}\n",
    "print(\"setA: \", setA)\n",
    "print(\"setB: \", setB)\n",
    "\n",
    "setA.symmetric_difference_update(setB)\n",
    "print(\"setA: \", setA)\n",
    "print(\"setB: \", setB)"
   ]
  },
  {
   "cell_type": "code",
   "execution_count": 72,
   "id": "b0e0acff",
   "metadata": {},
   "outputs": [],
   "source": [
    "#subset"
   ]
  },
  {
   "cell_type": "code",
   "execution_count": 77,
   "id": "aad9a432",
   "metadata": {},
   "outputs": [
    {
     "name": "stdout",
     "output_type": "stream",
     "text": [
      "setA:  {1, 2, 3, 4, 5, 6}\n",
      "setB:  {1, 2, 3}\n",
      "setA un subset de setB : False\n",
      "setB un subset de setA : True\n"
     ]
    }
   ],
   "source": [
    "setA = {1, 2, 3, 4, 5, 6}\n",
    "setB = {1, 2, 3}\n",
    "print(\"setA: \", setA)\n",
    "print(\"setB: \", setB)\n",
    "\n",
    "print(\"setA un subset de setB :\",setA.issubset(setB))\n",
    "print(\"setB un subset de setA :\",setB.issubset(setA))"
   ]
  },
  {
   "cell_type": "code",
   "execution_count": 78,
   "id": "46bc02de",
   "metadata": {},
   "outputs": [],
   "source": [
    "#superset"
   ]
  },
  {
   "cell_type": "code",
   "execution_count": 79,
   "id": "4253aa3b",
   "metadata": {},
   "outputs": [
    {
     "name": "stdout",
     "output_type": "stream",
     "text": [
      "setA:  {1, 2, 3, 4, 5, 6}\n",
      "setB:  {1, 2, 3}\n",
      "setA un superset de setB : True\n",
      "setB un superset de setA : False\n"
     ]
    }
   ],
   "source": [
    "setA = {1, 2, 3, 4, 5, 6}\n",
    "setB = {1, 2, 3}\n",
    "print(\"setA: \", setA)\n",
    "print(\"setB: \", setB)\n",
    "\n",
    "print(\"setA un superset de setB :\",setA.issuperset(setB))\n",
    "print(\"setB un superset de setA :\",setB.issuperset(setA))"
   ]
  },
  {
   "cell_type": "code",
   "execution_count": 84,
   "id": "7a5fd6d5",
   "metadata": {},
   "outputs": [],
   "source": [
    "#disjoint"
   ]
  },
  {
   "cell_type": "code",
   "execution_count": 85,
   "id": "8190ff67",
   "metadata": {},
   "outputs": [
    {
     "name": "stdout",
     "output_type": "stream",
     "text": [
      "setA:  {1, 2, 3, 4, 5, 6}\n",
      "setB:  {1, 2, 3}\n",
      "setC:  {8, 7}\n",
      "setA est disjoint de setB : False\n",
      "setB est disjoint de setA : False\n",
      "setC est disjoint de setA : True\n",
      "setA est disjoint de setC : True\n"
     ]
    }
   ],
   "source": [
    "setA = {1, 2, 3, 4, 5, 6}\n",
    "setB = {1, 2, 3}\n",
    "setC = {7, 8}\n",
    "print(\"setA: \", setA)\n",
    "print(\"setB: \", setB)\n",
    "print(\"setC: \", setC)\n",
    "\n",
    "print(\"setA est disjoint de setB :\",setA.isdisjoint(setB))\n",
    "print(\"setB est disjoint de setA :\",setB.isdisjoint(setA))\n",
    "print(\"setC est disjoint de setA :\",setC.isdisjoint(setA))\n",
    "print(\"setA est disjoint de setC :\",setA.isdisjoint(setC))"
   ]
  },
  {
   "cell_type": "code",
   "execution_count": 86,
   "id": "aaa46ef5",
   "metadata": {},
   "outputs": [],
   "source": [
    "#copy set"
   ]
  },
  {
   "cell_type": "code",
   "execution_count": 15,
   "id": "145cb61e",
   "metadata": {},
   "outputs": [
    {
     "name": "stdout",
     "output_type": "stream",
     "text": [
      "setA: {1, 2, 3, 4, 5, 6}\n",
      "\n",
      "\n",
      "equal : setB = setA\n",
      "setA: {1, 2, 3, 4, 5, 6}\n",
      "setB: {1, 2, 3, 4, 5, 6}\n",
      "setB.add(7)\n",
      "setA: {1, 2, 3, 4, 5, 6, 7}\n",
      "setB: {1, 2, 3, 4, 5, 6, 7}\n",
      "\n",
      "\n",
      "copy : setB = setA.copy()\n",
      "setA: {1, 2, 3, 4, 5, 6}\n",
      "setB: {1, 2, 3, 4, 5, 6}\n",
      "setB.add(7)\n",
      "setA: {1, 2, 3, 4, 5, 6}\n",
      "setB: {1, 2, 3, 4, 5, 6, 7}\n",
      "\n",
      "\n",
      "set : setB = set(setA)\n",
      "setA: {1, 2, 3, 4, 5, 6}\n",
      "setB: {1, 2, 3, 4, 5, 6}\n",
      "setB.add(7)\n",
      "setA: {1, 2, 3, 4, 5, 6}\n",
      "setB: {1, 2, 3, 4, 5, 6, 7}\n"
     ]
    }
   ],
   "source": [
    "setA = {1, 2, 3, 4, 5, 6}\n",
    "print(\"setA:\", setA)\n",
    "\n",
    "print(\"\\n\\nequal : setB = setA\")\n",
    "setB = setA\n",
    "print(\"setA:\", setA)\n",
    "print(\"setB:\", setB)\n",
    "print(\"setB.add(7)\")\n",
    "setB.add(7)\n",
    "print(\"setA:\", setA)\n",
    "print(\"setB:\", setB)\n",
    "\n",
    "print(\"\\n\\ncopy : setB = setA.copy()\")\n",
    "setA = {1, 2, 3, 4, 5, 6}\n",
    "setB = setA.copy()\n",
    "print(\"setA:\", setA)\n",
    "print(\"setB:\", setB)\n",
    "print(\"setB.add(7)\")\n",
    "setB.add(7)\n",
    "print(\"setA:\", setA)\n",
    "print(\"setB:\", setB)\n",
    "\n",
    "print(\"\\n\\nset : setB = set(setA)\")\n",
    "setA = {1, 2, 3, 4, 5, 6}\n",
    "setB = set(setA)\n",
    "print(\"setA:\", setA)\n",
    "print(\"setB:\", setB)\n",
    "print(\"setB.add(7)\")\n",
    "setB.add(7)\n",
    "print(\"setA:\", setA)\n",
    "print(\"setB:\", setB)\n"
   ]
  },
  {
   "cell_type": "code",
   "execution_count": 16,
   "id": "6d40fda7",
   "metadata": {},
   "outputs": [],
   "source": [
    "#Frozenset:"
   ]
  },
  {
   "cell_type": "code",
   "execution_count": 17,
   "id": "9953b4e0",
   "metadata": {},
   "outputs": [
    {
     "name": "stdout",
     "output_type": "stream",
     "text": [
      "a: frozenset({1, 2, 3, 4})\n"
     ]
    }
   ],
   "source": [
    "a =frozenset([1, 2, 3, 4])\n",
    "print(\"a:\", a)"
   ]
  },
  {
   "cell_type": "code",
   "execution_count": 18,
   "id": "50251ba7",
   "metadata": {},
   "outputs": [],
   "source": [
    "#STRING"
   ]
  },
  {
   "cell_type": "code",
   "execution_count": 28,
   "id": "22ff3306",
   "metadata": {},
   "outputs": [
    {
     "name": "stdout",
     "output_type": "stream",
     "text": [
      "Hello World\n",
      "Hello World\n",
      "Hello i'm World\n",
      "Hello i'm World\n",
      "Hello i'm World\n",
      "Hello \n",
      "i'm \n",
      "World\n",
      "Hello i'm World\n"
     ]
    }
   ],
   "source": [
    "my_string = \"Hello World\"\n",
    "print(my_string)\n",
    "\n",
    "my_string = 'Hello World'\n",
    "print(my_string)\n",
    "\n",
    "my_string = \"Hello i'm World\"\n",
    "print(my_string)\n",
    "\n",
    "my_string = 'Hello i\\'m World'\n",
    "print(my_string)\n",
    "\n",
    "my_string = \"\"\"Hello i\\'m World\"\"\"\n",
    "print(my_string)\n",
    "\n",
    "my_string = \"\"\"Hello \n",
    "i\\'m \n",
    "World\"\"\"\n",
    "print(my_string)\n",
    "\n",
    "my_string = \"\"\"Hello \\\n",
    "i\\'m \\\n",
    "World\"\"\"\n",
    "print(my_string)\n"
   ]
  },
  {
   "cell_type": "code",
   "execution_count": 29,
   "id": "12b412f4",
   "metadata": {},
   "outputs": [],
   "source": [
    "#substring"
   ]
  },
  {
   "cell_type": "code",
   "execution_count": 35,
   "id": "99639e92",
   "metadata": {},
   "outputs": [
    {
     "name": "stdout",
     "output_type": "stream",
     "text": [
      "Hello World\n",
      "H\n",
      "d\n",
      "ello\n",
      "Hello\n",
      "ello World\n",
      "Hello World\n",
      "HloWrd\n"
     ]
    }
   ],
   "source": [
    "my_string = \"Hello World\"\n",
    "char = my_string[0]\n",
    "print(my_string)\n",
    "print(char)\n",
    "char1 = my_string[-1]\n",
    "print(char1)\n",
    "substring = my_string[1:5]\n",
    "print(substring)\n",
    "substring = my_string[:5]\n",
    "print(substring)\n",
    "substring = my_string[1:]\n",
    "print(substring)\n",
    "substring = my_string[:]\n",
    "print(substring)\n",
    "substring = my_string[::2]\n",
    "print(substring)"
   ]
  },
  {
   "cell_type": "code",
   "execution_count": 36,
   "id": "c12ca96d",
   "metadata": {},
   "outputs": [],
   "source": [
    "#reverse string"
   ]
  },
  {
   "cell_type": "code",
   "execution_count": 38,
   "id": "a78ab6c4",
   "metadata": {},
   "outputs": [
    {
     "name": "stdout",
     "output_type": "stream",
     "text": [
      "dlroW olleH\n"
     ]
    }
   ],
   "source": [
    "my_string = \"Hello World\"\n",
    "substring = my_string[::-1]\n",
    "print(substring)"
   ]
  },
  {
   "cell_type": "code",
   "execution_count": 39,
   "id": "2c814999",
   "metadata": {},
   "outputs": [],
   "source": [
    "#concatenate string"
   ]
  },
  {
   "cell_type": "code",
   "execution_count": 43,
   "id": "92a4e441",
   "metadata": {},
   "outputs": [
    {
     "name": "stdout",
     "output_type": "stream",
     "text": [
      "Hello Tom\n",
      "Hello Tom\n"
     ]
    }
   ],
   "source": [
    "greeting = \"Hello\"\n",
    "name = \"Tom\"\n",
    "print (my_string + ' ' + name)\n",
    "sentence = greeting + ' ' + name\n",
    "print(sentence)"
   ]
  },
  {
   "cell_type": "code",
   "execution_count": 44,
   "id": "8b9cda2b",
   "metadata": {},
   "outputs": [],
   "source": [
    "#iterate the string"
   ]
  },
  {
   "cell_type": "code",
   "execution_count": 45,
   "id": "6889bec6",
   "metadata": {},
   "outputs": [
    {
     "name": "stdout",
     "output_type": "stream",
     "text": [
      "H\n",
      "e\n",
      "l\n",
      "l\n",
      "o\n"
     ]
    }
   ],
   "source": [
    "greeting = \"Hello\"\n",
    "for i in greeting:\n",
    "    print(i)"
   ]
  },
  {
   "cell_type": "code",
   "execution_count": 46,
   "id": "549f950b",
   "metadata": {},
   "outputs": [],
   "source": [
    "#check if characteris in the string"
   ]
  },
  {
   "cell_type": "code",
   "execution_count": 47,
   "id": "6e544c85",
   "metadata": {},
   "outputs": [
    {
     "name": "stdout",
     "output_type": "stream",
     "text": [
      "yes\n"
     ]
    }
   ],
   "source": [
    "greeting = \"Hello\"\n",
    "if 'e' in greeting:\n",
    "    print(\"yes\")\n",
    "else:\n",
    "    print(\"no\")"
   ]
  },
  {
   "cell_type": "code",
   "execution_count": 48,
   "id": "457cf0fb",
   "metadata": {},
   "outputs": [],
   "source": [
    "#more functions"
   ]
  },
  {
   "cell_type": "code",
   "execution_count": 70,
   "id": "fd7de8ee",
   "metadata": {},
   "outputs": [
    {
     "name": "stdout",
     "output_type": "stream",
     "text": [
      "   Hello World   \n",
      "Hello World\n",
      "   Hello World   \n",
      "Hello World\n",
      "\n",
      "\n",
      "HELLO WORLD\n",
      "hello world\n",
      "True\n",
      "True\n",
      "False\n",
      "False\n",
      "False\n",
      "True\n",
      "\n",
      "\n",
      "4\n",
      "3\n",
      "-1\n",
      "\n",
      "\n",
      "0\n",
      "2\n",
      "\n",
      "\n",
      "Hello Universe\n"
     ]
    }
   ],
   "source": [
    "my_string = '   Hello World   '\n",
    "print (my_string)\n",
    "my_string2 = my_string.strip()\n",
    "print(my_string2)\n",
    "\n",
    "my_string.strip()\n",
    "print(my_string)\n",
    "\n",
    "my_string = my_string.strip()\n",
    "print(my_string)\n",
    "\n",
    "#uppercase\n",
    "print('\\n')\n",
    "my_string = 'Hello World'\n",
    "print(my_string.upper())\n",
    "print(my_string.lower())\n",
    "print(my_string.startswith('H'))\n",
    "print(my_string.startswith('Hel'))\n",
    "print(my_string.startswith('Wo'))\n",
    "print(my_string.endswith('H'))\n",
    "print(my_string.endswith('Hel'))\n",
    "print(my_string.endswith('ld'))\n",
    "print('\\n')\n",
    "print(my_string.find('o'))\n",
    "print(my_string.find('lo'))\n",
    "print(my_string.find('p'))\n",
    "print('\\n')\n",
    "print(my_string.count('p'))      \n",
    "print(my_string.count('o'))   \n",
    "print('\\n')\n",
    "print(my_string.replace('World','Universe'))\n",
    "      "
   ]
  },
  {
   "cell_type": "code",
   "execution_count": 71,
   "id": "c42678d0",
   "metadata": {},
   "outputs": [],
   "source": [
    "#list and string"
   ]
  },
  {
   "cell_type": "code",
   "execution_count": 76,
   "id": "acaa8b77",
   "metadata": {},
   "outputs": [
    {
     "name": "stdout",
     "output_type": "stream",
     "text": [
      "['how', 'are', 'you', 'doing']\n",
      "['h', 'w are y', 'u d', 'ing']\n",
      "hw are yu ding\n",
      "how are you doing\n"
     ]
    }
   ],
   "source": [
    "my_string = 'how are you doing'\n",
    "my_list1 = my_string.split()\n",
    "print(my_list1)\n",
    "\n",
    "my_list2 = my_string.split('o')\n",
    "print(my_list2)\n",
    "\n",
    "new_string = ''.join(my_list2)\n",
    "print(new_string)\n",
    "new_string = 'o'.join(my_list2)\n",
    "print(new_string)\n"
   ]
  },
  {
   "cell_type": "code",
   "execution_count": 78,
   "id": "189f7eea",
   "metadata": {},
   "outputs": [
    {
     "name": "stdout",
     "output_type": "stream",
     "text": [
      "['a', 'a', 'a', 'a', 'a', 'a']\n"
     ]
    }
   ],
   "source": [
    "my_list = ['a']*6\n",
    "print(my_list)"
   ]
  },
  {
   "cell_type": "code",
   "execution_count": 83,
   "id": "44324fe1",
   "metadata": {},
   "outputs": [
    {
     "name": "stdout",
     "output_type": "stream",
     "text": [
      "aaaaaa\n",
      "4.563599941320717e-05\n",
      "aaaaaa\n",
      "2.447400038363412e-05\n",
      "42.04036125299899\n",
      "0.004530220998276491\n"
     ]
    }
   ],
   "source": [
    "from timeit import default_timer as timer\n",
    "#bad way\n",
    "start = timer()\n",
    "my_string = ''\n",
    "for i in my_list:\n",
    "    my_string += i\n",
    "stop = timer()\n",
    "print(my_string)\n",
    "print(stop - start)\n",
    "\n",
    "#good way\n",
    "start = timer()\n",
    "my_string = ''.join(my_list)\n",
    "stop = timer()\n",
    "print(my_string)\n",
    "print(stop - start)\n",
    "\n",
    "\n",
    "#bigger list\n",
    "my_list = ['a']*1000000\n",
    "#bad way\n",
    "start = timer()\n",
    "my_string = ''\n",
    "for i in my_list:\n",
    "    my_string += i\n",
    "stop = timer()\n",
    "print(stop - start)\n",
    "\n",
    "#good way\n",
    "start = timer()\n",
    "my_string = ''.join(my_list)\n",
    "stop = timer()\n",
    "print(stop - start)"
   ]
  },
  {
   "cell_type": "code",
   "execution_count": 84,
   "id": "fe6beecd",
   "metadata": {},
   "outputs": [],
   "source": [
    "#formating string"
   ]
  },
  {
   "cell_type": "code",
   "execution_count": 97,
   "id": "a3a90fd2",
   "metadata": {},
   "outputs": [
    {
     "name": "stdout",
     "output_type": "stream",
     "text": [
      "1  :  The variable is Tom\n",
      "2  :  The variable is 3\n",
      "3  :  The variable is 3.141600\n",
      "4  :  The variable is 3.14\n",
      "5  :  The variable is 3.1416\n",
      "6  :  The variable is 3.14\n",
      "7  :  The variable is 3.14 and 6\n",
      "8  :  The variable is 3.1416 and 6\n",
      "9  :  The variable is 47.124 and 15.600000000000001\n"
     ]
    }
   ],
   "source": [
    "#old way :  % \n",
    "var = \"Tom\"\n",
    "my_string1 = \"The variable is %s\" % var\n",
    "print(1,\" : \", my_string1)\n",
    "\n",
    "var = 3\n",
    "my_string2 = \"The variable is %d\" % var\n",
    "print(2,\" : \", my_string2)\n",
    "\n",
    "var = 3.1416\n",
    "my_string3 = \"The variable is %f\" % var  #6 digit after decimal by default\n",
    "print(3,\" : \", my_string3)\n",
    "\n",
    "var = 3.1416\n",
    "my_string4 = \"The variable is %.2f\" % var  #2 digit after decimal\n",
    "print(4,\" : \", my_string4)\n",
    "\n",
    "\n",
    "\n",
    "#new way :  .format()\n",
    "var = 3.1416\n",
    "my_string5 = \"The variable is {}\".format(var)\n",
    "print(5,\" : \", my_string5)\n",
    "\n",
    "var = 3.1416\n",
    "my_string6 = \"The variable is {:.2f}\".format(var)\n",
    "print(6,\" : \", my_string6)\n",
    "\n",
    "var1 = 3.1416\n",
    "var2 = 6\n",
    "my_string7 = \"The variable is {:.2f} and {}\".format(var1, var2)\n",
    "print(7,\" : \", my_string7)\n",
    "\n",
    "\n",
    "\n",
    "#new way2   ou f-strings \n",
    "var1 = 3.1416\n",
    "var2 = 6\n",
    "my_string8 = f\"The variable is {var1} and {var2}\"\n",
    "print(8,\" : \", my_string8)\n",
    "\n",
    "my_string9 = f\"The variable is {var1*15} and {var2*2.6}\"\n",
    "print(9,\" : \", my_string9)\n"
   ]
  },
  {
   "cell_type": "code",
   "execution_count": 98,
   "id": "8df8af3f",
   "metadata": {},
   "outputs": [],
   "source": [
    "#COLLECTIONS"
   ]
  },
  {
   "cell_type": "code",
   "execution_count": 107,
   "id": "47f88ce1",
   "metadata": {},
   "outputs": [
    {
     "name": "stdout",
     "output_type": "stream",
     "text": [
      "Counter({'a': 5, 'b': 4, 'c': 3})\n",
      "dict_items([('a', 5), ('b', 4), ('c', 3)])\n",
      "dict_keys(['a', 'b', 'c'])\n",
      "dict_values([5, 4, 3])\n",
      "[('a', 5)]\n",
      "[('a', 5), ('b', 4)]\n",
      "[('a', 5)]\n",
      "('a', 5)\n",
      "a\n",
      "<itertools.chain object at 0x7f3e6c14cf10>\n",
      "['a', 'a', 'a', 'a', 'a', 'b', 'b', 'b', 'b', 'c', 'c', 'c']\n"
     ]
    }
   ],
   "source": [
    "#counter\n",
    "from collections import Counter\n",
    "a = \"aaaaabbbbccc\"\n",
    "my_counter = Counter(a)\n",
    "print(my_counter)\n",
    "print(my_counter.items())\n",
    "print(my_counter.keys())\n",
    "print(my_counter.values())\n",
    "print(my_counter.most_common(1))\n",
    "print(my_counter.most_common(2))\n",
    "print(my_counter.most_common(1))\n",
    "print(my_counter.most_common(1)[0])\n",
    "print(my_counter.most_common(1)[0][0])\n",
    "print(my_counter.elements())\n",
    "print(list(my_counter.elements()))"
   ]
  },
  {
   "cell_type": "code",
   "execution_count": 109,
   "id": "6457a2b7",
   "metadata": {},
   "outputs": [
    {
     "name": "stdout",
     "output_type": "stream",
     "text": [
      "Point(x=1, y=-4)\n",
      "1 -4\n"
     ]
    }
   ],
   "source": [
    "#namedtuple\n",
    "from collections import namedtuple\n",
    "Point = namedtuple('Point','x,y')\n",
    "pt1 = Point(1, -4)\n",
    "print(pt1)\n",
    "print(pt1.x, pt1.y)"
   ]
  },
  {
   "cell_type": "code",
   "execution_count": 113,
   "id": "9552dc7b",
   "metadata": {},
   "outputs": [
    {
     "name": "stdout",
     "output_type": "stream",
     "text": [
      "OrderedDict([('b', 2), ('c', 14), ('d', 5), ('a', 1)])\n",
      "{'b': 2, 'c': 14, 'd': 5, 'a': 1}\n"
     ]
    }
   ],
   "source": [
    "#orderedDict\n",
    "from collections import OrderedDict\n",
    "ordered_dict = OrderedDict()\n",
    "\n",
    "ordered_dict['b'] = 2\n",
    "ordered_dict['c'] = 14\n",
    "ordered_dict['d'] = 5\n",
    "ordered_dict['a'] = 1\n",
    "\n",
    "print(ordered_dict)\n",
    "\n",
    "ordered_dict = {}\n",
    "\n",
    "ordered_dict['b'] = 2\n",
    "ordered_dict['c'] = 14\n",
    "ordered_dict['d'] = 5\n",
    "ordered_dict['a'] = 1\n",
    "\n",
    "print(ordered_dict)"
   ]
  },
  {
   "cell_type": "code",
   "execution_count": 120,
   "id": "b41cef08",
   "metadata": {},
   "outputs": [
    {
     "name": "stdout",
     "output_type": "stream",
     "text": [
      "defaultdict(<class 'int'>, {'a': 1, 'b': 2})\n",
      "1\n",
      "2\n",
      "0\n",
      "defaultdict(<class 'float'>, {'a': 1.0, 'b': 2.1})\n",
      "1.0\n",
      "2.1\n",
      "0.0\n",
      "defaultdict(<class 'list'>, {'a': 1.0, 'b': 2.1})\n",
      "1.0\n",
      "2.1\n",
      "[]\n"
     ]
    }
   ],
   "source": [
    "#defaultdict\n",
    "from collections import defaultdict\n",
    "d = defaultdict(int)\n",
    "d['a'] = 1\n",
    "d['b'] = 2\n",
    "print(d)\n",
    "print(d['a'])\n",
    "print(d['b'])\n",
    "print(d['c'])\n",
    "\n",
    "d = defaultdict(float)\n",
    "d['a'] = 1.0\n",
    "d['b'] = 2.1\n",
    "print(d)\n",
    "print(d['a'])\n",
    "print(d['b'])\n",
    "print(d['c'])\n",
    "\n",
    "d = defaultdict(list)\n",
    "d['a'] = 1.0\n",
    "d['b'] = 2.1\n",
    "print(d)\n",
    "print(d['a'])\n",
    "print(d['b'])\n",
    "print(d['c'])"
   ]
  },
  {
   "cell_type": "code",
   "execution_count": 130,
   "id": "23d3cfb2",
   "metadata": {},
   "outputs": [
    {
     "name": "stdout",
     "output_type": "stream",
     "text": [
      "deque([1, 2])\n",
      "deque([3, 1, 2])\n",
      "deque([3, 1])\n",
      "deque([1])\n",
      "deque([])\n",
      "deque([1, 2, 3, 4, 5, 6])\n",
      "deque([7, 8, 1, 2, 3, 4, 5, 6])\n",
      "deque([6, 7, 8, 1, 2, 3, 4, 5])\n",
      "deque([3, 4, 5, 6, 7, 8, 1, 2])\n",
      "deque([4, 5, 6, 7, 8, 1, 2, 3])\n"
     ]
    }
   ],
   "source": [
    "#deque\n",
    "from collections import deque\n",
    "d = deque()\n",
    "\n",
    "d.append(1)\n",
    "d.append(2)\n",
    "\n",
    "print(d)\n",
    "\n",
    "d.appendleft(3)\n",
    "print(d)\n",
    "\n",
    "d.pop()\n",
    "print(d)\n",
    "\n",
    "d.popleft()\n",
    "print(d)\n",
    "\n",
    "d.clear()\n",
    "print(d)\n",
    "\n",
    "d.extend([1,2,3,4,5,6])\n",
    "print(d)\n",
    "\n",
    "d.extendleft([8,7])\n",
    "print(d)\n",
    "\n",
    "d.rotate(1)\n",
    "print(d)\n",
    "\n",
    "d.rotate(3)\n",
    "print(d)\n",
    "\n",
    "d.rotate(-1)\n",
    "print(d)"
   ]
  },
  {
   "cell_type": "code",
   "execution_count": 131,
   "id": "1d18236c",
   "metadata": {},
   "outputs": [],
   "source": [
    "#ITERTOOLS"
   ]
  },
  {
   "cell_type": "code",
   "execution_count": 9,
   "id": "1f6d14e7",
   "metadata": {},
   "outputs": [
    {
     "name": "stdout",
     "output_type": "stream",
     "text": [
      "product\n",
      "<itertools.product object at 0x7f10e02c5a00>\n",
      "[(1, 3), (1, 4), (2, 3), (2, 4)]\n",
      "<itertools.product object at 0x7f10e0320c40>\n",
      "[(1, 3, 1, 3), (1, 3, 1, 4), (1, 3, 2, 3), (1, 3, 2, 4), (1, 4, 1, 3), (1, 4, 1, 4), (1, 4, 2, 3), (1, 4, 2, 4), (2, 3, 1, 3), (2, 3, 1, 4), (2, 3, 2, 3), (2, 3, 2, 4), (2, 4, 1, 3), (2, 4, 1, 4), (2, 4, 2, 3), (2, 4, 2, 4)]\n",
      "\n",
      "permutations\n",
      "<itertools.permutations object at 0x7f10e02fd620>\n",
      "[(1, 2, 3), (1, 3, 2), (2, 1, 3), (2, 3, 1), (3, 1, 2), (3, 2, 1)]\n",
      "<itertools.permutations object at 0x7f10e02fd760>\n",
      "[(1, 2), (1, 3), (2, 1), (2, 3), (3, 1), (3, 2)]\n",
      "\n",
      "combinations\n",
      "<itertools.combinations object at 0x7f10e0293330>\n",
      "[(1, 2), (1, 3), (1, 4), (2, 3), (2, 4), (3, 4)]\n",
      "\n",
      "combinations wityh replacement\n",
      "<itertools.combinations_with_replacement object at 0x7f10e02fd7b0>\n",
      "[(1, 1), (1, 2), (1, 3), (1, 4), (2, 2), (2, 3), (2, 4), (3, 3), (3, 4), (4, 4)]\n",
      "\n",
      "accumulate\n",
      "[1, 2, 3, 4]\n",
      "<itertools.accumulate object at 0x7f10c6740d40>\n",
      "[1, 3, 6, 10]\n",
      "\n",
      "accumulate with operator multiply\n",
      "[1, 2, 3, 4]\n",
      "<itertools.accumulate object at 0x7f10e02e0ac0>\n",
      "[1, 2, 6, 24]\n",
      "\n",
      "accumulate with max 1\n",
      "[1, 2, 3, 4]\n",
      "<itertools.accumulate object at 0x7f10e02e0940>\n",
      "[1, 2, 3, 4]\n",
      "\n",
      "accumulate with max 2\n",
      "[1, 2, 5, 3, 4]\n",
      "<itertools.accumulate object at 0x7f10e02e2f40>\n",
      "[1, 2, 5, 5, 5]\n",
      "\n",
      "group by\n",
      "<itertools.groupby object at 0x7f10e02fd620>\n",
      "True [1, 2]\n",
      "False [3, 4]\n",
      "25 [{'name': 'Tim', 'age': 25}, {'name': 'Dan', 'age': 25}]\n",
      "27 [{'name': 'Lisa', 'age': 27}]\n",
      "28 [{'name': 'Claire', 'age': 28}]\n"
     ]
    }
   ],
   "source": [
    " #product\n",
    "print(\"product\")    \n",
    "from itertools import product\n",
    "a = [1, 2]\n",
    "b = [3, 4]\n",
    "prod1 = product(a,b)\n",
    "print(prod1)\n",
    "print(list(prod1))\n",
    "\n",
    "prod2 = product(a,b, repeat=2)\n",
    "print(prod2)\n",
    "print(list(prod2))\n",
    "\n",
    "\n",
    "#permutations\n",
    "print(\"\\npermutations\")\n",
    "from itertools import permutations\n",
    "a = [1, 2, 3]\n",
    "perm = permutations(a)\n",
    "print(perm)\n",
    "print(list(perm))\n",
    "\n",
    "perm = permutations(a, 2)\n",
    "print(perm)\n",
    "print(list(perm))\n",
    "\n",
    "#combinations\n",
    "print(\"\\ncombinations\")\n",
    "from itertools import combinations\n",
    "a = [1, 2, 3, 4]\n",
    "comb = combinations(a, 2)\n",
    "print(comb)\n",
    "print(list(comb))\n",
    "\n",
    "#combinations with repacement\n",
    "print(\"\\ncombinations wityh replacement\")\n",
    "from itertools import combinations, combinations_with_replacement\n",
    "a = [1, 2, 3, 4]\n",
    "\n",
    "comb_wr = combinations_with_replacement(a,2)\n",
    "print(comb_wr)\n",
    "print(list(comb_wr))\n",
    "\n",
    "\n",
    "#accumulate\n",
    "print(\"\\naccumulate\")\n",
    "from itertools import accumulate\n",
    "a = [1, 2, 3, 4]\n",
    "print(a)\n",
    "acc = accumulate(a)\n",
    "print(acc)\n",
    "print(list(acc))\n",
    "\n",
    "#accumulate with operator multiply\n",
    "print(\"\\naccumulate with operator multiply\")\n",
    "from itertools import accumulate\n",
    "import operator\n",
    "a = [1, 2, 3, 4]\n",
    "print(a)\n",
    "acc = accumulate(a, func=operator.mul)\n",
    "print(acc)\n",
    "print(list(acc))\n",
    "\n",
    "#accumulate with max 1\n",
    "print(\"\\naccumulate with max 1\")\n",
    "from itertools import accumulate\n",
    "import operator\n",
    "a = [1, 2, 3, 4]\n",
    "print(a)\n",
    "acc = accumulate(a, func=max)\n",
    "print(acc)\n",
    "print(list(acc))\n",
    "\n",
    "#accumulate with max 2\n",
    "print(\"\\naccumulate with max 2\")\n",
    "from itertools import accumulate\n",
    "import operator\n",
    "a = [1, 2, 5, 3, 4]\n",
    "print(a)\n",
    "acc = accumulate(a, func=max)\n",
    "print(acc)\n",
    "print(list(acc))\n",
    "\n",
    "#group by\n",
    "print(\"\\ngroup by\")\n",
    "from itertools import groupby\n",
    "\n",
    "def smaller_than_3(x):\n",
    "    return x < 3\n",
    "\n",
    "a = [1, 2, 3, 4]\n",
    "group_obj = groupby(a, key=smaller_than_3) #avec lambda ==> group_obj = groupby(a, key=lambda x : x<3)\n",
    "print(group_obj)\n",
    "\n",
    "for key, value in group_obj:\n",
    "    print(key, list(value))\n",
    "    \n",
    "#autre exemple:\n",
    "persons = [{'name':'Tim', 'age': 25},{'name':'Dan','age': 25},{'name':'Lisa', 'age': 27},{'name':'Claire', 'age': 28}]\n",
    "group_obj = groupby(persons, key=lambda x : x['age'])\n",
    "for key, value in group_obj:\n",
    "    print(key, list(value))\n",
    "    \n",
    "\n",
    "\n",
    "        \n"
   ]
  },
  {
   "cell_type": "code",
   "execution_count": 12,
   "id": "518d4bb3",
   "metadata": {},
   "outputs": [
    {
     "name": "stdout",
     "output_type": "stream",
     "text": [
      "\n",
      "count, cycle , repeat\n",
      "10\n",
      "11\n",
      "12\n",
      "13\n",
      "14\n",
      "15\n",
      "1\n",
      "1\n",
      "1\n",
      "1\n"
     ]
    }
   ],
   "source": [
    "# count, cycle , repeat\n",
    "print(\"\\ncount, cycle , repeat\")\n",
    "from itertools import count, cycle, repeat\n",
    "\n",
    "for i in count(10):\n",
    "    print(i)\n",
    "    if i == 15:\n",
    "        break\n",
    "        \n",
    "a=[1, 2, 3]\n",
    "#for i in cycle(a):\n",
    "#    print(i)\n",
    "\n",
    "a=[1, 2, 3]\n",
    "for i in repeat(1,4):\n",
    "    print(i )"
   ]
  },
  {
   "cell_type": "code",
   "execution_count": 29,
   "id": "9d9ddc14",
   "metadata": {},
   "outputs": [
    {
     "name": "stdout",
     "output_type": "stream",
     "text": [
      "\n",
      "lambda function\n",
      "<function <lambda> at 0x7f10c4ce5260>\n",
      "15\n",
      "<function add10_func at 0x7f10c4ce5300>\n",
      "15\n",
      "20\n",
      "\n",
      "1\n",
      "[(1, 2), (15, 1), (5, -1), (10, 4)]\n",
      "[(1, 2), (5, -1), (10, 4), (15, 1)]\n",
      "\n",
      "2\n",
      "[(1, 2), (15, 1), (5, -1), (10, 4)]\n",
      "[(5, -1), (15, 1), (1, 2), (10, 4)]\n",
      "\n",
      "3\n",
      "[(1, 2), (15, 1), (5, -1), (10, 4)]\n",
      "[(5, -1), (15, 1), (1, 2), (10, 4)]\n",
      "\n",
      "4\n",
      "[(1, 2), (15, 1), (5, -1), (10, 4)]\n",
      "[(1, 2), (5, -1), (10, 4), (15, 1)]\n"
     ]
    }
   ],
   "source": [
    "#lambda function   ==> lamnbda arguments: expression\n",
    "print(\"\\nlambda function\")\n",
    "\n",
    "add10 = lambda x: x + 10\n",
    "print(add10)\n",
    "print(add10(5))\n",
    "\n",
    "def add10_func(x):\n",
    "    return x + 10\n",
    "print(add10_func)\n",
    "print(add10_func(5))\n",
    "\n",
    "mult = lambda x,y: x*y\n",
    "print(mult(5,4))\n",
    "\n",
    "print(\"\\n1\")\n",
    "points2D = [(1,2),(15,1),(5,-1),(10,4)]\n",
    "points2D_sorted = sorted(points2D)\n",
    "print(points2D)\n",
    "print(points2D_sorted)\n",
    "\n",
    "print(\"\\n2\")\n",
    "points2D_sorted_2 = sorted(points2D, key=lambda x: x[1])\n",
    "print(points2D)\n",
    "print(points2D_sorted_2)\n",
    "\n",
    "print(\"\\n3\")\n",
    "def sort_by_y(x):\n",
    "    return x[1]\n",
    "\n",
    "points2D_sorted_3 = sorted(points2D, key=sort_by_y)\n",
    "print(points2D)\n",
    "print(points2D_sorted_3)\n",
    "\n",
    "print(\"\\n4\")\n",
    "points2D_sorted_4 = sorted(points2D, key=lambda x: x[0] + x[1])\n",
    "print(points2D)\n",
    "print(points2D_sorted_4)"
   ]
  },
  {
   "cell_type": "code",
   "execution_count": 36,
   "id": "6199f4dd",
   "metadata": {},
   "outputs": [
    {
     "name": "stdout",
     "output_type": "stream",
     "text": [
      "\n",
      "map function\n",
      "[1, 2, 3, 4, 5]\n",
      "<map object at 0x7f10c4c33df0>\n",
      "[2, 4, 6, 8, 10]\n",
      "[2, 4, 6, 8, 10]\n",
      "[2, 4, 6, 8, 10]\n",
      "\n",
      "filter function\n",
      "[1, 2, 3, 4, 5, 6]\n",
      "<filter object at 0x7f10c4c32800>\n",
      "[2, 4, 6]\n",
      "[2, 4, 6]\n",
      "[2, 4, 6]\n",
      "\n",
      "filter function\n",
      "[1, 2, 3, 4, 5, 6]\n",
      "720\n"
     ]
    }
   ],
   "source": [
    "#map  ==> map(func, seq)\n",
    "print(\"\\nmap function\")\n",
    "a = [1, 2, 3, 4, 5]\n",
    "b = map(lambda x: x*2, a)\n",
    "print(a)\n",
    "print(b)\n",
    "print(list(b))\n",
    "\n",
    "c = [x*2 for x in a]\n",
    "print(c)\n",
    "print(list(c))\n",
    "\n",
    "#filter ==> filter(func, seq) func return true ou false\n",
    "print(\"\\nfilter function\")\n",
    "a = [1, 2, 3, 4, 5, 6]\n",
    "b = filter(lambda x: x%2==0, a)#return impair\n",
    "print(a)\n",
    "print(b)\n",
    "print(list(b))\n",
    "\n",
    "c = [x for x in a if x%2==0]\n",
    "print(c)\n",
    "print(list(c))\n",
    "\n",
    "#reduce ==> reduce(func, seq) func return a single value\n",
    "from functools import reduce\n",
    "print(\"\\nfilter function\")\n",
    "a = [1, 2, 3, 4, 5, 6]\n",
    "product_a = reduce(lambda x,y: x*y, a)\n",
    "print(a)\n",
    "print(product_a)"
   ]
  },
  {
   "cell_type": "code",
   "execution_count": 5,
   "id": "07c1cede",
   "metadata": {},
   "outputs": [
    {
     "name": "stderr",
     "output_type": "stream",
     "text": [
      "04/09/2023 17:17:03-root-DEBUG-this is a debug message\n",
      "04/09/2023 17:17:03-root-INFO-this is a info message\n",
      "04/09/2023 17:17:03-root-WARNING-this is a warning message\n",
      "04/09/2023 17:17:03-root-ERROR-this is a error message\n",
      "04/09/2023 17:17:03-root-CRITICAL-this is a critical message\n",
      "04/09/2023 17:17:03-root-ERROR-The error is Traceback (most recent call last):\n",
      "  File \"/tmp/ipykernel_37639/2531465802.py\", line 44, in <module>\n",
      "    val = a[5]\n",
      "          ~^^^\n",
      "IndexError: list index out of range\n",
      "\n",
      "04/09/2023 17:17:03-__main__-INFO-Hello, World!\n",
      "04/09/2023 17:17:03-__main__-INFO-Hello, World!\n",
      "04/09/2023 17:17:03-__main__-INFO-Hello, World!\n",
      "04/09/2023 17:17:03-__main__-INFO-Hello, World!\n",
      "04/09/2023 17:17:03-__main__-INFO-Hello, World!\n",
      "04/09/2023 17:17:03-__main__-INFO-Hello, World!\n",
      "04/09/2023 17:17:03-__main__-INFO-Hello, World!\n",
      "04/09/2023 17:17:03-__main__-INFO-Hello, World!\n",
      "04/09/2023 17:17:03-__main__-INFO-Hello, World!\n",
      "04/09/2023 17:17:03-__main__-INFO-Hello, World!\n",
      "04/09/2023 17:17:03-__main__-INFO-Hello, World!\n",
      "04/09/2023 17:17:03-__main__-INFO-Hello, World!\n",
      "04/09/2023 17:17:03-__main__-INFO-Hello, World!\n",
      "04/09/2023 17:17:03-__main__-INFO-Hello, World!\n",
      "04/09/2023 17:17:03-__main__-INFO-Hello, World!\n",
      "04/09/2023 17:17:03-__main__-INFO-Hello, World!\n",
      "04/09/2023 17:17:03-__main__-INFO-Hello, World!\n",
      "04/09/2023 17:17:03-__main__-INFO-Hello, World!\n",
      "04/09/2023 17:17:03-__main__-INFO-Hello, World!\n",
      "04/09/2023 17:17:03-__main__-INFO-Hello, World!\n",
      "04/09/2023 17:17:03-__main__-INFO-Hello, World!\n",
      "04/09/2023 17:17:03-__main__-INFO-Hello, World!\n",
      "04/09/2023 17:17:03-__main__-INFO-Hello, World!\n",
      "04/09/2023 17:17:03-__main__-INFO-Hello, World!\n",
      "04/09/2023 17:17:03-__main__-INFO-Hello, World!\n",
      "04/09/2023 17:17:03-__main__-INFO-Hello, World!\n",
      "04/09/2023 17:17:03-__main__-INFO-Hello, World!\n",
      "04/09/2023 17:17:03-__main__-INFO-Hello, World!\n",
      "04/09/2023 17:17:03-__main__-INFO-Hello, World!\n",
      "04/09/2023 17:17:03-__main__-INFO-Hello, World!\n",
      "04/09/2023 17:17:03-__main__-INFO-Hello, World!\n",
      "04/09/2023 17:17:03-__main__-INFO-Hello, World!\n",
      "04/09/2023 17:17:03-__main__-INFO-Hello, World!\n",
      "04/09/2023 17:17:03-__main__-INFO-Hello, World!\n",
      "04/09/2023 17:17:03-__main__-INFO-Hello, World!\n",
      "04/09/2023 17:17:03-__main__-INFO-Hello, World!\n",
      "04/09/2023 17:17:03-__main__-INFO-Hello, World!\n",
      "04/09/2023 17:17:03-__main__-INFO-Hello, World!\n",
      "04/09/2023 17:17:03-__main__-INFO-Hello, World!\n",
      "04/09/2023 17:17:03-__main__-INFO-Hello, World!\n",
      "04/09/2023 17:17:03-__main__-INFO-Hello, World!\n",
      "04/09/2023 17:17:03-__main__-INFO-Hello, World!\n",
      "04/09/2023 17:17:03-__main__-INFO-Hello, World!\n",
      "04/09/2023 17:17:03-__main__-INFO-Hello, World!\n",
      "04/09/2023 17:17:03-__main__-INFO-Hello, World!\n",
      "04/09/2023 17:17:03-__main__-INFO-Hello, World!\n",
      "04/09/2023 17:17:03-__main__-INFO-Hello, World!\n",
      "04/09/2023 17:17:03-__main__-INFO-Hello, World!\n",
      "04/09/2023 17:17:03-__main__-INFO-Hello, World!\n",
      "04/09/2023 17:17:03-__main__-INFO-Hello, World!\n",
      "04/09/2023 17:17:03-__main__-INFO-Hello, World!\n",
      "04/09/2023 17:17:03-__main__-INFO-Hello, World!\n",
      "04/09/2023 17:17:03-__main__-INFO-Hello, World!\n",
      "04/09/2023 17:17:03-__main__-INFO-Hello, World!\n",
      "04/09/2023 17:17:03-__main__-INFO-Hello, World!\n",
      "04/09/2023 17:17:03-__main__-INFO-Hello, World!\n",
      "04/09/2023 17:17:03-__main__-INFO-Hello, World!\n",
      "04/09/2023 17:17:03-__main__-INFO-Hello, World!\n",
      "04/09/2023 17:17:03-__main__-INFO-Hello, World!\n",
      "04/09/2023 17:17:03-__main__-INFO-Hello, World!\n",
      "04/09/2023 17:17:03-__main__-INFO-Hello, World!\n",
      "04/09/2023 17:17:03-__main__-INFO-Hello, World!\n",
      "04/09/2023 17:17:03-__main__-INFO-Hello, World!\n",
      "04/09/2023 17:17:03-__main__-INFO-Hello, World!\n",
      "04/09/2023 17:17:03-__main__-INFO-Hello, World!\n",
      "04/09/2023 17:17:03-__main__-INFO-Hello, World!\n",
      "04/09/2023 17:17:03-__main__-INFO-Hello, World!\n",
      "04/09/2023 17:17:03-__main__-INFO-Hello, World!\n",
      "04/09/2023 17:17:03-__main__-INFO-Hello, World!\n",
      "04/09/2023 17:17:03-__main__-INFO-Hello, World!\n",
      "04/09/2023 17:17:03-__main__-INFO-Hello, World!\n",
      "04/09/2023 17:17:03-__main__-INFO-Hello, World!\n",
      "04/09/2023 17:17:03-__main__-INFO-Hello, World!\n",
      "04/09/2023 17:17:03-__main__-INFO-Hello, World!\n",
      "04/09/2023 17:17:03-__main__-INFO-Hello, World!\n",
      "04/09/2023 17:17:03-__main__-INFO-Hello, World!\n",
      "04/09/2023 17:17:03-__main__-INFO-Hello, World!\n",
      "04/09/2023 17:17:03-__main__-INFO-Hello, World!\n",
      "04/09/2023 17:17:03-__main__-INFO-Hello, World!\n",
      "04/09/2023 17:17:03-__main__-INFO-Hello, World!\n",
      "04/09/2023 17:17:03-__main__-INFO-Hello, World!\n",
      "04/09/2023 17:17:03-__main__-INFO-Hello, World!\n",
      "04/09/2023 17:17:03-__main__-INFO-Hello, World!\n",
      "04/09/2023 17:17:03-__main__-INFO-Hello, World!\n",
      "04/09/2023 17:17:03-__main__-INFO-Hello, World!\n",
      "04/09/2023 17:17:03-__main__-INFO-Hello, World!\n",
      "04/09/2023 17:17:03-__main__-INFO-Hello, World!\n",
      "04/09/2023 17:17:03-__main__-INFO-Hello, World!\n",
      "04/09/2023 17:17:03-__main__-INFO-Hello, World!\n",
      "04/09/2023 17:17:03-__main__-INFO-Hello, World!\n",
      "04/09/2023 17:17:03-__main__-INFO-Hello, World!\n",
      "04/09/2023 17:17:03-__main__-INFO-Hello, World!\n",
      "04/09/2023 17:17:03-__main__-INFO-Hello, World!\n",
      "04/09/2023 17:17:03-__main__-INFO-Hello, World!\n",
      "04/09/2023 17:17:03-__main__-INFO-Hello, World!\n",
      "04/09/2023 17:17:03-__main__-INFO-Hello, World!\n",
      "04/09/2023 17:17:03-__main__-INFO-Hello, World!\n",
      "04/09/2023 17:17:03-__main__-INFO-Hello, World!\n",
      "04/09/2023 17:17:03-__main__-INFO-Hello, World!\n",
      "04/09/2023 17:17:03-__main__-INFO-Hello, World!\n",
      "04/09/2023 17:17:03-__main__-INFO-Hello, World!\n"
     ]
    },
    {
     "name": "stdout",
     "output_type": "stream",
     "text": [
      "\n",
      "logging module\n",
      "\n",
      "1\n",
      "\n",
      "2\n"
     ]
    },
    {
     "name": "stderr",
     "output_type": "stream",
     "text": [
      "04/09/2023 17:17:08-__main__-INFO-Hello, World!\n",
      "04/09/2023 17:17:13-__main__-INFO-Hello, World!\n",
      "04/09/2023 17:17:18-__main__-INFO-Hello, World!\n",
      "04/09/2023 17:17:23-__main__-INFO-Hello, World!\n",
      "04/09/2023 17:17:28-__main__-INFO-Hello, World!\n"
     ]
    }
   ],
   "source": [
    "#logging module\n",
    "print(\"\\nlogging module\")\n",
    "print(\"\\n1\")\n",
    "#import logging\n",
    "\n",
    "#logging.debug('this is a debug message')\n",
    "#logging.info('this is a info message')\n",
    "#logging.warning('this is a warning message')\n",
    "#logging.error('this is a error message')\n",
    "#logging.critical('this is a critical message')\n",
    "\n",
    "print(\"\\n2\")\n",
    "import logging\n",
    "logging.basicConfig(level=logging.DEBUG, format='%(asctime)s-%(name)s-%(levelname)s-%(message)s',\n",
    "                   datefmt='%m/%d/%Y %H:%M:%S')\n",
    "logging.debug('this is a debug message')\n",
    "logging.info('this is a info message')\n",
    "logging.warning('this is a warning message')\n",
    "logging.error('this is a error message')\n",
    "logging.critical('this is a critical message')\n",
    "\n",
    "#04/08/2023 19:14:23 - root - DEBUG - this is a debug message\n",
    "#04/08/2023 19:14:23 - root - INFO - this is a info message\n",
    "#04/08/2023 19:14:23 - root - WARNING - this is a warning message\n",
    "#04/08/2023 19:14:23 - root - ERROR - this is a error message\n",
    "#04/08/2023 19:14:23 - root - CRITICAL - this is a critical message\n",
    "\n",
    "#create a helper.py with:\n",
    "#import logging\n",
    "#logger = logging.getLogger(__name__)\n",
    "#logger.info('hello from helper')\n",
    "\n",
    "#and in te main prog:\n",
    "# import helper\n",
    "#ceci remplace le ' - root - ' dans la log par le nom ' - helper - '\n",
    "\n",
    "#pour avoir un traceback : découpé en plusieurs fichier base 2 , avec ou sans decoupe temporelle base 3\n",
    "#base 1\n",
    "import logging\n",
    "import traceback\n",
    "\n",
    "try:\n",
    "    a = [1,2,3,4]\n",
    "    val = a[5]\n",
    "except:\n",
    "    logging.error(\"The error is %s\", traceback.format_exc())\n",
    "    \n",
    "##############################################################base 2\n",
    "import logging\n",
    "from logging.handlers import RotatingFileHandler\n",
    "\n",
    "logger = logging.getLogger(__name__)\n",
    "logger.setLevel(logging.INFO)\n",
    "\n",
    "#roll over after 2KB, and keep backup 5 logs app.log.1 app.log.2  etc\n",
    "handler = RotatingFileHandler('app.log', maxBytes=2000, backupCount=5)\n",
    "logger.addHandler(handler)\n",
    "\n",
    "for _ in range(100):\n",
    "    logger.info('Hello, World!')\n",
    "\n",
    "##############################################################base 3\n",
    "import logging\n",
    "import time\n",
    "from logging.handlers import TimedRotatingFileHandler\n",
    "\n",
    "logger = logging.getLogger(__name__)\n",
    "logger.setLevel(logging.INFO)\n",
    "\n",
    "#timed when: s:second, m:minute, h:hour, d:day, midnight, w0: monday, w1:tuesday\n",
    "handler = TimedRotatingFileHandler('timed_test.log', when='s', interval=5, backupCount=5)\n",
    "logger.addHandler(handler)\n",
    "\n",
    "for _ in range(6):\n",
    "    logger.info('Hello, World!')\n",
    "    time.sleep(5)\n",
    "\n",
    "\n"
   ]
  },
  {
   "cell_type": "code",
   "execution_count": null,
   "id": "f39a1d6a",
   "metadata": {},
   "outputs": [],
   "source": [
    "#JSON"
   ]
  },
  {
   "cell_type": "code",
   "execution_count": 8,
   "id": "10b1db32",
   "metadata": {},
   "outputs": [
    {
     "data": {
      "text/plain": [
       "{'firstName': 'jane',\n",
       " 'lastName': 'Doe',\n",
       " 'hobbies': ['running', 'swimming', 'singing'],\n",
       " 'age': 28,\n",
       " 'hasChildren': True,\n",
       " 'children': [{'firstName': 'Alex', 'age': 5}, {'firstName': 'Bob', 'age': 7}]}"
      ]
     },
     "execution_count": 8,
     "metadata": {},
     "output_type": "execute_result"
    }
   ],
   "source": [
    "{\n",
    "    \"firstName\": \"jane\",\n",
    "    \"lastName\": \"Doe\",\n",
    "    \"hobbies\": [\"running\", \"swimming\", \"singing\"],\n",
    "    \"age\": 28,\n",
    "    \"hasChildren\": True,\n",
    "    \"children\": [\n",
    "        {\n",
    "            \"firstName\": \"Alex\",\n",
    "            \"age\": 5\n",
    "        },\n",
    "        {\n",
    "            \"firstName\": \"Bob\",\n",
    "            \"age\": 7\n",
    "        }\n",
    "    ]\n",
    "}"
   ]
  },
  {
   "cell_type": "code",
   "execution_count": 19,
   "id": "1d07eb30",
   "metadata": {},
   "outputs": [
    {
     "name": "stdout",
     "output_type": "stream",
     "text": [
      "{\"name\": \"John\", \"age\": 30, \"city\": \"New York\", \"hasChildren\": false, \"titles\": [\"engineer\", \"programmer\"]}\n",
      "{\n",
      "    \"name\": \"John\",\n",
      "    \"age\": 30,\n",
      "    \"city\": \"New York\",\n",
      "    \"hasChildren\": false,\n",
      "    \"titles\": [\n",
      "        \"engineer\",\n",
      "        \"programmer\"\n",
      "    ]\n",
      "}\n",
      "{\n",
      "    \"name\"= \"John\"; \n",
      "    \"age\"= 30; \n",
      "    \"city\"= \"New York\"; \n",
      "    \"hasChildren\"= false; \n",
      "    \"titles\"= [\n",
      "        \"engineer\"; \n",
      "        \"programmer\"\n",
      "    ]\n",
      "}\n",
      "{\n",
      "    \"age\": 30,\n",
      "    \"city\": \"New York\",\n",
      "    \"hasChildren\": false,\n",
      "    \"name\": \"John\",\n",
      "    \"titles\": [\n",
      "        \"engineer\",\n",
      "        \"programmer\"\n",
      "    ]\n",
      "}\n"
     ]
    }
   ],
   "source": [
    "#convert a python dict to a JSON object (serialisation)\n",
    "import json\n",
    "\n",
    "person = {\"name\": \"John\", \"age\": 30, \"city\": \"New York\", \"hasChildren\": False, \"titles\":[\"engineer\",\"programmer\"]}\n",
    "\n",
    "personJSON1 = json.dumps(person)\n",
    "personJSON2 = json.dumps(person, indent=4)\n",
    "personJSON3 = json.dumps(person, indent=4, separators=('; ','= '))\n",
    "personJSON4 = json.dumps(person, indent=4, sort_keys=True)\n",
    "\n",
    "print(personJSON1)\n",
    "print(personJSON2)\n",
    "print(personJSON3)\n",
    "print(personJSON4)\n",
    "\n",
    "#convert to a file non indenté par defaut\n",
    "with open('person.json','w') as file:\n",
    "    json.dump(person, file)\n",
    "\n",
    "#convert to a file non indenté nommé\n",
    "with open('person_non_ind.json','w') as file:\n",
    "    json.dump(person, file)\n",
    "\n",
    "#convert to a file indenté nommé\n",
    "with open('person_ind.json','w') as file:\n",
    "    json.dump(person, file, indent=4)    "
   ]
  },
  {
   "cell_type": "code",
   "execution_count": 22,
   "id": "56cf1407",
   "metadata": {},
   "outputs": [
    {
     "name": "stdout",
     "output_type": "stream",
     "text": [
      "\n",
      "JSON_object\n",
      "{\"name\": \"John\", \"age\": 30, \"city\": \"New York\", \"hasChildren\": false, \"titles\": [\"engineer\", \"programmer\"]}\n",
      "{\n",
      "    \"name\": \"John\",\n",
      "    \"age\": 30,\n",
      "    \"city\": \"New York\",\n",
      "    \"hasChildren\": false,\n",
      "    \"titles\": [\n",
      "        \"engineer\",\n",
      "        \"programmer\"\n",
      "    ]\n",
      "}\n",
      "{\n",
      "    \"name\"= \"John\"; \n",
      "    \"age\"= 30; \n",
      "    \"city\"= \"New York\"; \n",
      "    \"hasChildren\"= false; \n",
      "    \"titles\"= [\n",
      "        \"engineer\"; \n",
      "        \"programmer\"\n",
      "    ]\n",
      "}\n",
      "{\n",
      "    \"age\": 30,\n",
      "    \"city\": \"New York\",\n",
      "    \"hasChildren\": false,\n",
      "    \"name\": \"John\",\n",
      "    \"titles\": [\n",
      "        \"engineer\",\n",
      "        \"programmer\"\n",
      "    ]\n",
      "}\n",
      "\n",
      "python_object\n",
      "{'age': 30, 'city': 'New York', 'hasChildren': False, 'name': 'John', 'titles': ['engineer', 'programmer']}\n",
      "\n",
      "python_object\n",
      "{'name': 'John', 'age': 30, 'city': 'New York', 'hasChildren': False, 'titles': ['engineer', 'programmer']}\n"
     ]
    }
   ],
   "source": [
    "#convert a JSON object to a python dict (deserialisation)\n",
    "import json\n",
    "\n",
    "person = {\"name\": \"John\", \"age\": 30, \"city\": \"New York\", \"hasChildren\": False, \"titles\":[\"engineer\",\"programmer\"]}\n",
    "\n",
    "print(\"\\nJSON_object\")\n",
    "personJSON1 = json.dumps(person)\n",
    "personJSON2 = json.dumps(person, indent=4)\n",
    "personJSON3 = json.dumps(person, indent=4, separators=('; ','= '))\n",
    "personJSON4 = json.dumps(person, indent=4, sort_keys=True)\n",
    "\n",
    "print(personJSON1)\n",
    "print(personJSON2)\n",
    "print(personJSON3)\n",
    "print(personJSON4)\n",
    "\n",
    "person_p1 = json.loads(personJSON4)\n",
    "print(\"\\npython_object\")\n",
    "print(person_p1)\n",
    "\n",
    "#convert to a python file\n",
    "with open('person.json', 'r') as file:\n",
    "    person_p2 = json.load(file)\n",
    "    print(\"\\npython_file\")\n",
    "    print(person_p2)\n"
   ]
  },
  {
   "cell_type": "code",
   "execution_count": 34,
   "id": "3d49f55a",
   "metadata": {},
   "outputs": [
    {
     "name": "stdout",
     "output_type": "stream",
     "text": [
      "\n",
      "Methode 1\n",
      "{\"name\": \"Max\", \"age\": 27, \"User\": true}\n",
      "\n",
      "Methode 2\n",
      "{\"name\": \"Max\", \"age\": 27, \"User\": true}\n",
      "\n",
      "Methode 3\n",
      "{\"name\": \"Max\", \"age\": 27, \"User\": true}\n",
      "\n",
      "user5\n",
      "{'name': 'Max', 'age': 27, 'User': True}\n",
      "<class 'dict'>\n",
      "\n",
      "user6\n",
      "<__main__.User object at 0x7f96a9ae9090>\n",
      "<class '__main__.User'>\n",
      "Max\n"
     ]
    }
   ],
   "source": [
    "#custom object\n",
    "########################################méthode 1\n",
    "print(\"\\nMethode 1\")\n",
    "import json\n",
    "\n",
    "class User:\n",
    "    \n",
    "    def __init__(self, name, age):\n",
    "        self.name = name\n",
    "        self.age = age\n",
    "        \n",
    "user = User('Max',27)\n",
    "\n",
    "def encode_user(o):\n",
    "    if isinstance(o, User):\n",
    "        return {'name': o.name, 'age': o.age, o.__class__.__name__: True}\n",
    "    else:\n",
    "        raise TypeError('Object of type User is not JSON serializable')\n",
    "    \n",
    "userJSON1 = json.dumps(user, default=encode_user)\n",
    "print(userJSON1)\n",
    "\n",
    "\n",
    "########################################méthode 2\n",
    "print(\"\\nMethode 2\")\n",
    "from json import JSONEncoder\n",
    "class UserEncoder(JSONEncoder):\n",
    "    \n",
    "    def default(self, o):\n",
    "        if isinstance(o, User):\n",
    "            return {'name': o.name, 'age': o.age, o.__class__.__name__: True}\n",
    "        else:\n",
    "            return JSONEncoder.default(self, o)\n",
    "\n",
    "userJSON2 = json.dumps(user, cls=UserEncoder)\n",
    "print(userJSON2)\n",
    "\n",
    "######################################## méthode 3\n",
    "print(\"\\nMethode 3\")\n",
    "userJSON3 = UserEncoder().encode(user)\n",
    "print(userJSON3)\n",
    "\n",
    "\n",
    "\n",
    "#decode object back to python object\n",
    "print(\"\\nuser5\")\n",
    "user5 = json.loads(userJSON3)\n",
    "print(user5)\n",
    "print(type(user5))\n",
    "\n",
    "#print(user5.name) #dict error\n",
    "\n",
    "def decode_user(dct):\n",
    "    if User.__name__ in dct:\n",
    "        return User(name=dct['name'], age=dct['age'])\n",
    "    return dct\n",
    "\n",
    "print(\"\\nuser6\")\n",
    "user6 = json.loads(userJSON3, object_hook=decode_user)\n",
    "print(user6)\n",
    "print(type(user6))\n",
    "print(user6.name)"
   ]
  },
  {
   "cell_type": "code",
   "execution_count": 35,
   "id": "6c060443",
   "metadata": {},
   "outputs": [],
   "source": [
    "#Random Numbers"
   ]
  },
  {
   "cell_type": "code",
   "execution_count": null,
   "id": "911cb80e",
   "metadata": {},
   "outputs": [],
   "source": []
  }
 ],
 "metadata": {
  "kernelspec": {
   "display_name": "Python 3 (ipykernel)",
   "language": "python",
   "name": "python3"
  },
  "language_info": {
   "codemirror_mode": {
    "name": "ipython",
    "version": 3
   },
   "file_extension": ".py",
   "mimetype": "text/x-python",
   "name": "python",
   "nbconvert_exporter": "python",
   "pygments_lexer": "ipython3",
   "version": "3.11.3"
  }
 },
 "nbformat": 4,
 "nbformat_minor": 5
}
