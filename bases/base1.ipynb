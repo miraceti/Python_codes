{
 "cells": [
  {
   "cell_type": "code",
   "execution_count": 1,
   "id": "1c5db475",
   "metadata": {},
   "outputs": [],
   "source": [
    "#bases de python"
   ]
  },
  {
   "cell_type": "code",
   "execution_count": 2,
   "id": "a80994c8",
   "metadata": {},
   "outputs": [],
   "source": [
    "#LISTS"
   ]
  },
  {
   "cell_type": "code",
   "execution_count": 71,
   "id": "93eb280c",
   "metadata": {},
   "outputs": [
    {
     "name": "stdout",
     "output_type": "stream",
     "text": [
      "['banana', 'cherry', 'apple', 'banana', 2, True]\n"
     ]
    }
   ],
   "source": [
    "mylist = [\"banana\",\"cherry\",\"apple\",\"banana\",2, True]\n",
    "print(mylist)\n"
   ]
  },
  {
   "cell_type": "code",
   "execution_count": 72,
   "id": "2078502f",
   "metadata": {},
   "outputs": [
    {
     "name": "stdout",
     "output_type": "stream",
     "text": [
      "\n",
      "list vide\n",
      "[]\n"
     ]
    }
   ],
   "source": [
    "print(\"\\nlist vide\")\n",
    "mylist2 = list()\n",
    "print(mylist2)"
   ]
  },
  {
   "cell_type": "code",
   "execution_count": 73,
   "id": "06208c09",
   "metadata": {},
   "outputs": [
    {
     "name": "stdout",
     "output_type": "stream",
     "text": [
      "\n",
      "index\n",
      "banana\n",
      "apple\n"
     ]
    }
   ],
   "source": [
    "print(\"\\nindex\")\n",
    "item = mylist[0]\n",
    "print(item)\n",
    "item1 = mylist[-4]\n",
    "print(item1)"
   ]
  },
  {
   "cell_type": "code",
   "execution_count": 74,
   "id": "3c19738f",
   "metadata": {},
   "outputs": [
    {
     "name": "stdout",
     "output_type": "stream",
     "text": [
      "\n",
      "loop\n",
      "banana\n",
      "cherry\n",
      "apple\n",
      "banana\n",
      "2\n",
      "True\n"
     ]
    }
   ],
   "source": [
    "print(\"\\nloop\")\n",
    "for i in mylist:\n",
    "    print(i)"
   ]
  },
  {
   "cell_type": "code",
   "execution_count": 75,
   "id": "ad09defb",
   "metadata": {},
   "outputs": [
    {
     "name": "stdout",
     "output_type": "stream",
     "text": [
      "\n",
      "check exist\n",
      "yes\n"
     ]
    }
   ],
   "source": [
    "print(\"\\ncheck exist\")\n",
    "if \"banana\" in mylist:\n",
    "    print(\"yes\")\n",
    "else:\n",
    "    print(\"no\")"
   ]
  },
  {
   "cell_type": "code",
   "execution_count": 76,
   "id": "29023aaa",
   "metadata": {},
   "outputs": [
    {
     "name": "stdout",
     "output_type": "stream",
     "text": [
      "\n",
      "longueur\n",
      "6\n"
     ]
    }
   ],
   "source": [
    "print(\"\\nlongueur\")\n",
    "print(len(mylist))"
   ]
  },
  {
   "cell_type": "code",
   "execution_count": 77,
   "id": "5f69447b",
   "metadata": {},
   "outputs": [
    {
     "name": "stdout",
     "output_type": "stream",
     "text": [
      "\n",
      " ajout element\n",
      "['banana', 'cherry', 'apple', 'banana', 2, True, 'lemon']\n"
     ]
    }
   ],
   "source": [
    "print(\"\\n ajout element\")\n",
    "mylist.append(\"lemon\")\n",
    "print(mylist)"
   ]
  },
  {
   "cell_type": "code",
   "execution_count": 78,
   "id": "e421f0fb",
   "metadata": {},
   "outputs": [
    {
     "name": "stdout",
     "output_type": "stream",
     "text": [
      "\n",
      "insertion 1 element\n",
      "['banana', 'blueberry', 'cherry', 'apple', 'banana', 2, True, 'lemon']\n"
     ]
    }
   ],
   "source": [
    "print(\"\\ninsertion 1 element\")\n",
    "mylist.insert(1, \"blueberry\")\n",
    "print(mylist)"
   ]
  },
  {
   "cell_type": "code",
   "execution_count": 79,
   "id": "0c8dc741",
   "metadata": {},
   "outputs": [
    {
     "name": "stdout",
     "output_type": "stream",
     "text": [
      "['banana', 'cherry', 'apple', 'banana', 2, True]\n",
      "\n",
      "remove last element\n",
      "['banana', 'cherry', 'apple', 'banana', 2]\n",
      "\n",
      "remove 1 element\n",
      "['banana', 'apple', 'banana', 2]\n",
      "\n",
      "remove all\n"
     ]
    }
   ],
   "source": [
    "mylist = [\"banana\",\"cherry\",\"apple\",\"banana\",2, True]\n",
    "print(mylist)\n",
    "print(\"\\nremove last element\")\n",
    "mylist.pop()\n",
    "print(mylist)\n",
    "\n",
    "print(\"\\nremove 1 element\")\n",
    "mylist.remove(\"cherry\")\n",
    "print(mylist)\n",
    "\n",
    "print(\"\\nremove all\")\n",
    "#item = mylist.clear()\n",
    "#print(item)   #return None\n",
    "#print(mylist) \"return empty list []\""
   ]
  },
  {
   "cell_type": "code",
   "execution_count": 80,
   "id": "9e55405a",
   "metadata": {},
   "outputs": [
    {
     "name": "stdout",
     "output_type": "stream",
     "text": [
      "\n",
      "sort\n",
      "None\n",
      "[-10, -5, -2, 0, 1, 2, 3, 4, 5, 7, 10]\n",
      "\n",
      "sorted\n",
      "new [-10, -5, -2, 0, 1, 2, 3, 4, 5, 7, 10]\n",
      "old [4, 3, 7, 5, 0, -2, -5, -10, 10, 2, 1]\n"
     ]
    }
   ],
   "source": [
    "print(\"\\nsort\")\n",
    "mylist1 = [4, 3 ,7, 5, 0,-2, -5, -10, 10, 2, 1] \n",
    "item = mylist1.sort()\n",
    "print(item)\n",
    "print(mylist1)\n",
    "\n",
    "print(\"\\nsorted\")\n",
    "mylist1 = [4, 3 ,7, 5, 0,-2, -5, -10, 10, 2, 1] \n",
    "newlist = sorted(mylist1)\n",
    "print(\"new\",newlist)\n",
    "print(\"old\",mylist1)"
   ]
  },
  {
   "cell_type": "code",
   "execution_count": 81,
   "id": "7bea25f1",
   "metadata": {},
   "outputs": [
    {
     "name": "stdout",
     "output_type": "stream",
     "text": [
      "\n",
      "create new list\n",
      "[0, 0, 0, 0, 0]\n",
      "\n",
      "concat list\n",
      "[0, 0, 0, 0, 0, 1, 2, 3, 4, 5, 6]\n"
     ]
    }
   ],
   "source": [
    "print(\"\\ncreate new list\")\n",
    "mylist = [0]*5\n",
    "print(mylist)\n",
    "\n",
    "print(\"\\nconcat list\")\n",
    "mylist2 = [1, 2, 3, 4, 5, 6]\n",
    "newlist = mylist + mylist2\n",
    "print(newlist)"
   ]
  },
  {
   "cell_type": "code",
   "execution_count": 82,
   "id": "9ad3e289",
   "metadata": {},
   "outputs": [
    {
     "name": "stdout",
     "output_type": "stream",
     "text": [
      "\n",
      "slice\n",
      "mylist: [1, 2, 3, 4, 5, 6, 7, 8, 9, 10]\n",
      "a: [2, 3, 4, 5]\n",
      "b: [1, 2, 3, 4, 5]\n",
      "c: [3, 4, 5, 6, 7, 8, 9, 10]\n",
      "d: [3, 5, 7, 9]\n",
      "e: [1, 2, 3, 4, 5, 6, 7, 8, 9, 10]\n",
      "f: [10, 9, 8, 7, 6, 5, 4, 3, 2, 1]\n"
     ]
    }
   ],
   "source": [
    "print(\"\\nslice\")\n",
    "mylist = [1, 2, 3, 4 ,5 ,6 ,7, 8, 9, 10]\n",
    "a = mylist[1:5]\n",
    "print(\"mylist:\",mylist)\n",
    "print(\"a:\",a)\n",
    "\n",
    "b = mylist[:5]\n",
    "print(\"b:\",b)\n",
    "\n",
    "c = mylist[2:]\n",
    "print(\"c:\",c)\n",
    "\n",
    "d = mylist[2::2]\n",
    "print(\"d:\",d)\n",
    "\n",
    "e = mylist[::1]\n",
    "print(\"e:\",e)\n",
    "\n",
    "f = mylist[::-1]\n",
    "print(\"f:\",f)"
   ]
  },
  {
   "cell_type": "code",
   "execution_count": 83,
   "id": "a0830516",
   "metadata": {},
   "outputs": [
    {
     "name": "stdout",
     "output_type": "stream",
     "text": [
      "\n",
      "copy list\n",
      "list_org: ['banana', 'cherry', 'apple']   --  list_cpy: ['banana', 'cherry', 'apple']\n",
      "\n",
      "!!! modify the cpy also modify the org !!!\n",
      "list_org: ['banana', 'cherry', 'apple', 'lemon']   --  list_cpy: ['banana', 'cherry', 'apple', 'lemon']\n",
      "\n",
      " use copy method\n",
      "list_org: ['banana', 'cherry', 'apple']   --  list_cpy: ['banana', 'cherry', 'apple', 'lemon']\n",
      "\n",
      " use list function\n",
      "list_org: ['banana', 'cherry', 'apple']   --  list_cpy: ['banana', 'cherry', 'apple', 'lemon']\n",
      "\n",
      " use slice\n",
      "list_org: ['banana', 'cherry', 'apple']   --  list_cpy: ['banana', 'cherry', 'apple', 'lemon']\n"
     ]
    }
   ],
   "source": [
    "print(\"\\ncopy list\")\n",
    "list_org = [\"banana\",\"cherry\",\"apple\"]\n",
    "list_cpy = list_org\n",
    "print(\"list_org:\",list_org,\"  --  list_cpy:\",list_cpy)\n",
    "\n",
    "print(\"\\n!!! modify the cpy also modify the org !!!\")\n",
    "list_cpy.append(\"lemon\")\n",
    "print(\"list_org:\",list_org,\"  --  list_cpy:\",list_cpy)\n",
    "\n",
    "print(\"\\n use copy method\")\n",
    "list_org = [\"banana\",\"cherry\",\"apple\"]\n",
    "list_cpy = list_org.copy()\n",
    "list_cpy.append(\"lemon\")\n",
    "print(\"list_org:\",list_org,\"  --  list_cpy:\",list_cpy)\n",
    "\n",
    "print(\"\\n use list function\")\n",
    "list_org = [\"banana\",\"cherry\",\"apple\"]\n",
    "list_cpy = list(list_org)\n",
    "list_cpy.append(\"lemon\")\n",
    "print(\"list_org:\",list_org,\"  --  list_cpy:\",list_cpy)\n",
    "\n",
    "print(\"\\n use slice\")\n",
    "list_org = [\"banana\",\"cherry\",\"apple\"]\n",
    "list_cpy = list_org[:]\n",
    "list_cpy.append(\"lemon\")\n",
    "print(\"list_org:\",list_org,\"  --  list_cpy:\",list_cpy)"
   ]
  },
  {
   "cell_type": "code",
   "execution_count": 84,
   "id": "818f1612",
   "metadata": {},
   "outputs": [
    {
     "name": "stdout",
     "output_type": "stream",
     "text": [
      "\n",
      "create list with list comprehension\n",
      "mylist: [1, 2, 3, 4, 5, 6]\n",
      "a: [1, 4, 9, 16, 25, 36]\n"
     ]
    }
   ],
   "source": [
    "print(\"\\ncreate list with list comprehension\")\n",
    "mylist = [1, 2, 3, 4, 5, 6]\n",
    "a = [i*i for i in mylist]\n",
    "print(\"mylist:\",mylist)\n",
    "print(\"a:\",a)\n"
   ]
  },
  {
   "cell_type": "code",
   "execution_count": null,
   "id": "9956e703",
   "metadata": {},
   "outputs": [],
   "source": []
  }
 ],
 "metadata": {
  "kernelspec": {
   "display_name": "Python 3 (ipykernel)",
   "language": "python",
   "name": "python3"
  },
  "language_info": {
   "codemirror_mode": {
    "name": "ipython",
    "version": 3
   },
   "file_extension": ".py",
   "mimetype": "text/x-python",
   "name": "python",
   "nbconvert_exporter": "python",
   "pygments_lexer": "ipython3",
   "version": "3.11.2"
  }
 },
 "nbformat": 4,
 "nbformat_minor": 5
}
